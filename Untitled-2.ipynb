{
 "cells": [
  {
   "cell_type": "code",
   "execution_count": 6,
   "metadata": {},
   "outputs": [
    {
     "name": "stdout",
     "output_type": "stream",
     "text": [
      "0.14375\n",
      "59.800000000000004\n"
     ]
    }
   ],
   "source": [
    "metri = 230\n",
    "def converter():\n",
    "    miles = print(metri / 1600)\n",
    "    foot = print(metri* 0.26)\n",
    "    return\n",
    "converter()\n",
    "\n"
   ]
  },
  {
   "cell_type": "code",
   "execution_count": 7,
   "metadata": {},
   "outputs": [],
   "source": [
    "def americana(metri):\n",
    "    conversions = dict()\n",
    "    conversions[\"miglia\"] = metri / 1609.344\n",
    "    conversions[\"piedi\"] = metri * 3.280840\n",
    "    conversions[\"pollici\"] = metri * 39.37008\n",
    "    conversions[\"iarde\"] = metri * 1.093613\n",
    "\n",
    "    print(f\"{metri} metri corrispondono a:\")\n",
    "    for key, value in conversions.items():\n",
    "        print(f\"{key}: {value}\")"
   ]
  },
  {
   "cell_type": "code",
   "execution_count": 13,
   "metadata": {},
   "outputs": [
    {
     "name": "stdout",
     "output_type": "stream",
     "text": [
      "0.16666666666666666 10.0\n"
     ]
    }
   ],
   "source": [
    "secondi = int(input())\n",
    "def tempo():\n",
    "    convers_1 = secondi / 3600\n",
    "    convers_2 = secondi / 60\n",
    "    print(convers_1, convers_2)\n",
    "    return\n",
    "tempo()"
   ]
  },
  {
   "cell_type": "code",
   "execution_count": 17,
   "metadata": {},
   "outputs": [],
   "source": [
    "misura = 20\n",
    "def geometra():\n",
    "    if str(input(\"enter : \")) == \"cerchio\":\n",
    "        cerc = 2 * misura\n",
    "        print(cerc)\n",
    "    elif str(input(\"enter : \")) == \"trio\":\n",
    "        cubo = misura **3\n",
    "        print(cubo)\n",
    "    elif str(input(\"enter : \")) == \"quad\":\n",
    "        quadrato = misura ** 2\n",
    "        print(quadrato)\n",
    "geometra()\n",
    "    "
   ]
  },
  {
   "cell_type": "code",
   "execution_count": null,
   "metadata": {},
   "outputs": [],
   "source": []
  }
 ],
 "metadata": {
  "kernelspec": {
   "display_name": "Python 3",
   "language": "python",
   "name": "python3"
  },
  "language_info": {
   "codemirror_mode": {
    "name": "ipython",
    "version": 3
   },
   "file_extension": ".py",
   "mimetype": "text/x-python",
   "name": "python",
   "nbconvert_exporter": "python",
   "pygments_lexer": "ipython3",
   "version": "3.11.4"
  },
  "orig_nbformat": 4
 },
 "nbformat": 4,
 "nbformat_minor": 2
}
