{
 "cells": [
  {
   "cell_type": "code",
   "execution_count": 6,
   "metadata": {},
   "outputs": [
    {
     "name": "stdout",
     "output_type": "stream",
     "text": [
      "0.14375\n",
      "59.800000000000004\n"
     ]
    }
   ],
   "source": [
    "metri = 230\n",
    "def converter():\n",
    "    miles = print(metri / 1600)\n",
    "    foot = print(metri* 0.26)\n",
    "    return\n",
    "converter()\n",
    "\n"
   ]
  },
  {
   "cell_type": "code",
   "execution_count": 7,
   "metadata": {},
   "outputs": [],
   "source": [
    "def americana(metri):\n",
    "    conversions = dict()\n",
    "    conversions[\"miglia\"] = metri / 1609.344\n",
    "    conversions[\"piedi\"] = metri * 3.280840\n",
    "    conversions[\"pollici\"] = metri * 39.37008\n",
    "    conversions[\"iarde\"] = metri * 1.093613\n",
    "\n",
    "    print(f\"{metri} metri corrispondono a:\")\n",
    "    for key, value in conversions.items():\n",
    "        print(f\"{key}: {value}\")"
   ]
  },
  {
   "cell_type": "code",
   "execution_count": 13,
   "metadata": {},
   "outputs": [
    {
     "name": "stdout",
     "output_type": "stream",
     "text": [
      "0.16666666666666666 10.0\n"
     ]
    }
   ],
   "source": [
    "secondi = int(input())\n",
    "def tempo():\n",
    "    convers_1 = secondi / 3600\n",
    "    convers_2 = secondi / 60\n",
    "    print(convers_1, convers_2)\n",
    "    return\n",
    "tempo()"
   ]
  },
  {
   "cell_type": "code",
   "execution_count": 1,
   "metadata": {},
   "outputs": [],
   "source": [
    "misura = 20\n",
    "def geometra():\n",
    "    if str(input(\"enter : \")) == \"cerchio\":\n",
    "        cerc = 2 * misura\n",
    "        print(cerc)\n",
    "    elif str(input(\"enter : \")) == \"trio\":\n",
    "        cubo = misura **3\n",
    "        print(cubo)\n",
    "    elif str(input(\"enter : \")) == \"quad\":\n",
    "        quadrato = misura ** 2\n",
    "        print(quadrato)\n",
    "geometra()\n",
    "    "
   ]
  },
  {
   "cell_type": "code",
   "execution_count": 2,
   "metadata": {},
   "outputs": [
    {
     "name": "stdout",
     "output_type": "stream",
     "text": [
      "fe\n"
     ]
    }
   ],
   "source": [
    "print(\"fe\")"
   ]
  },
  {
   "cell_type": "code",
   "execution_count": null,
   "metadata": {},
   "outputs": [],
   "source": [
    "import random\n",
    "\n",
    "def genera_mac():\n",
    "    mac = []\n",
    "    for n in range(1, 10):\n",
    "        ra\n",
    "\n"
   ]
  },
  {
   "cell_type": "code",
   "execution_count": 4,
   "metadata": {},
   "outputs": [
    {
     "data": {
      "text/plain": [
       "'88:5F:5C:C7:B6:97'"
      ]
     },
     "execution_count": 4,
     "metadata": {},
     "output_type": "execute_result"
    }
   ],
   "source": [
    "import random\n",
    "\n",
    "def genera_mac():\n",
    "    char_set = \"ABCDEF0123456789\"\n",
    "    mac_addr = \"\"\n",
    "    due_punti = 0\n",
    "\n",
    "    for _ in range(6):\n",
    "        for _ in range(2):\n",
    "            mac_addr += random.choice(char_set)\n",
    "        if due_punti < 5:\n",
    "          mac_addr += \":\"\n",
    "          due_punti += 1\n",
    "\n",
    "    return mac_addr\n",
    "genera_mac()"
   ]
  },
  {
   "cell_type": "code",
   "execution_count": 6,
   "metadata": {},
   "outputs": [
    {
     "name": "stdout",
     "output_type": "stream",
     "text": [
      "Il Sistema attualmente in uso è: Windows\n",
      "Info Release: 10\n"
     ]
    }
   ],
   "source": [
    "import platform\n",
    "\n",
    "def sys_info():\n",
    "    print(\"Il Sistema attualmente in uso è: \" + platform.system())\n",
    "    print(\"Info Release: \" + platform.release())\n",
    "sys_info()"
   ]
  },
  {
   "cell_type": "code",
   "execution_count": 12,
   "metadata": {},
   "outputs": [
    {
     "ename": "NameError",
     "evalue": "name 'a' is not defined",
     "output_type": "error",
     "traceback": [
      "\u001b[1;31m---------------------------------------------------------------------------\u001b[0m",
      "\u001b[1;31mNameError\u001b[0m                                 Traceback (most recent call last)",
      "Cell \u001b[1;32mIn[12], line 2\u001b[0m\n\u001b[0;32m      1\u001b[0m num \u001b[39m=\u001b[39m \u001b[39m12\u001b[39m\n\u001b[1;32m----> 2\u001b[0m \u001b[39mif\u001b[39;00m num  \u001b[39m/\u001b[39m\u001b[39m/\u001b[39m (\u001b[39mint\u001b[39m(a) \u001b[39m+\u001b[39m \u001b[39mint\u001b[39m(b)):\n\u001b[0;32m      3\u001b[0m     \u001b[39mprint\u001b[39m(\u001b[39m\"\u001b[39m\u001b[39mperfetto\u001b[39m\u001b[39m\"\u001b[39m)\n\u001b[0;32m      4\u001b[0m \u001b[39melse\u001b[39;00m:\n",
      "\u001b[1;31mNameError\u001b[0m: name 'a' is not defined"
     ]
    }
   ],
   "source": [
    "num = 12\n",
    "if num  // (int(a) + int(b)):\n",
    "    print(\"perfetto\")\n",
    "else:\n",
    "    print(\"nooooo\")\n"
   ]
  }
 ],
 "metadata": {
  "kernelspec": {
   "display_name": "Python 3",
   "language": "python",
   "name": "python3"
  },
  "language_info": {
   "codemirror_mode": {
    "name": "ipython",
    "version": 3
   },
   "file_extension": ".py",
   "mimetype": "text/x-python",
   "name": "python",
   "nbconvert_exporter": "python",
   "pygments_lexer": "ipython3",
   "version": "3.11.4"
  },
  "orig_nbformat": 4
 },
 "nbformat": 4,
 "nbformat_minor": 2
}
