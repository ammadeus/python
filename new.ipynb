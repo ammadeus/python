{
 "cells": [
  {
   "cell_type": "code",
   "execution_count": 2,
   "metadata": {},
   "outputs": [
    {
     "name": "stdout",
     "output_type": "stream",
     "text": [
      "thisIsSnakeCase\n"
     ]
    }
   ],
   "source": [
    "# Task 1. Convert Snake Case to Camel Case. Convert a snake_case string to a CamelStyle string.  \n",
    "input_str = 'this_is_snake_case'\n",
    "input_str_updated = input_str.replace(\"_\", \" \").title()\n",
    "final_result = input_str_updated[0].lower()+input_str_updated[1::].replace(\" \", \"\")\n",
    "print(final_result)"
   ]
  },
  {
   "attachments": {},
   "cell_type": "markdown",
   "metadata": {},
   "source": []
  },
  {
   "cell_type": "code",
   "execution_count": 1,
   "metadata": {},
   "outputs": [
    {
     "name": "stdout",
     "output_type": "stream",
     "text": [
      "CIAO MONDO\n"
     ]
    }
   ],
   "source": [
    "stringa = \"ciao mondo\"\n",
    "new_stringa = stringa.upper()\n",
    "print(new_stringa)"
   ]
  },
  {
   "cell_type": "code",
   "execution_count": 2,
   "metadata": {},
   "outputs": [
    {
     "name": "stdout",
     "output_type": "stream",
     "text": [
      "benvenuti a roma\n"
     ]
    }
   ],
   "source": [
    "stringa = \"Benvenuti a Roma\"\n",
    "low_stringa = stringa.lower()\n",
    "print(low_stringa)"
   ]
  },
  {
   "cell_type": "code",
   "execution_count": 8,
   "metadata": {},
   "outputs": [
    {
     "name": "stdout",
     "output_type": "stream",
     "text": [
      "['Il', 'meglio', 'deve', 'ancora', 'venire']\n"
     ]
    }
   ],
   "source": [
    "stringa = \"Il meglio deve ancora venire\"\n",
    "split_stringa = stringa.split()\n",
    "print(split_stringa)\n",
    " "
   ]
  },
  {
   "cell_type": "code",
   "execution_count": 14,
   "metadata": {},
   "outputs": [
    {
     "name": "stdout",
     "output_type": "stream",
     "text": [
      "Hello Python\n"
     ]
    }
   ],
   "source": [
    "stringa = \"Hello world\"\n",
    "per_stringa = stringa.replace(\"world\" , \"Python\")\n",
    "print(per_stringa)\n"
   ]
  },
  {
   "cell_type": "markdown",
   "metadata": {},
   "source": []
  },
  {
   "cell_type": "code",
   "execution_count": 15,
   "metadata": {},
   "outputs": [
    {
     "name": "stdout",
     "output_type": "stream",
     "text": [
      "Ciao\n"
     ]
    }
   ],
   "source": [
    "stringa = \" Ciao \"\n",
    "just_stringa = stringa.strip()\n",
    "print(just_stringa)\n"
   ]
  },
  {
   "cell_type": "code",
   "execution_count": 16,
   "metadata": {},
   "outputs": [
    {
     "name": "stdout",
     "output_type": "stream",
     "text": [
      "abc\n"
     ]
    }
   ],
   "source": [
    "stringa = \"abcdefg\"\n",
    "tre_caratteri = stringa[:3]\n",
    "print(tre_caratteri)"
   ]
  },
  {
   "cell_type": "code",
   "execution_count": 20,
   "metadata": {},
   "outputs": [
    {
     "data": {
      "text/plain": [
       "True"
      ]
     },
     "execution_count": 20,
     "metadata": {},
     "output_type": "execute_result"
    }
   ],
   "source": [
    "stringa = \"Python\"\n",
    "stringa.startswith(\"Py\")\n"
   ]
  },
  {
   "cell_type": "code",
   "execution_count": 21,
   "metadata": {},
   "outputs": [
    {
     "data": {
      "text/plain": [
       "3"
      ]
     },
     "execution_count": 21,
     "metadata": {},
     "output_type": "execute_result"
    }
   ],
   "source": [
    "stringa = \"Ciao mondo\"\n",
    "stringa.count(\"o\")"
   ]
  },
  {
   "cell_type": "code",
   "execution_count": 24,
   "metadata": {},
   "outputs": [
    {
     "name": "stdout",
     "output_type": "stream",
     "text": [
      "MONDO\n"
     ]
    }
   ],
   "source": [
    "stringa = \"Ciao mondo\"\n",
    "mod_stringa= stringa.upper().replace(\"o\", \"k\")\n",
    "modif_stringa = mod_stringa[-5:]\n",
    "print(modif_stringa)"
   ]
  },
  {
   "cell_type": "code",
   "execution_count": 23,
   "metadata": {},
   "outputs": [
    {
     "name": "stdout",
     "output_type": "stream",
     "text": [
      "MKNDK\n"
     ]
    }
   ],
   "source": [
    "stringa = \"Ciao mondo\"\n",
    "risultato = stringa[-5:].upper().replace(\"O\", \"K\")\n",
    "\n",
    "print(risultato)"
   ]
  }
 ],
 "metadata": {
  "kernelspec": {
   "display_name": "Python 3",
   "language": "python",
   "name": "python3"
  },
  "language_info": {
   "codemirror_mode": {
    "name": "ipython",
    "version": 3
   },
   "file_extension": ".py",
   "mimetype": "text/x-python",
   "name": "python",
   "nbconvert_exporter": "python",
   "pygments_lexer": "ipython3",
   "version": "3.11.4"
  },
  "orig_nbformat": 4
 },
 "nbformat": 4,
 "nbformat_minor": 2
}
