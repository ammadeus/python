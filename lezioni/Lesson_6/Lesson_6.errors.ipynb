{
 "cells": [
  {
   "attachments": {},
   "cell_type": "markdown",
   "metadata": {},
   "source": [
    "# Errors"
   ]
  },
  {
   "attachments": {},
   "cell_type": "markdown",
   "metadata": {},
   "source": [
    "## Types of Errors"
   ]
  },
  {
   "attachments": {},
   "cell_type": "markdown",
   "metadata": {},
   "source": [
    "### Syntax Errors\n",
    "\n",
    "These occur when the code violates the rules of the Python language syntax and cannot be compiled. Syntax errors are easy to identify because Python will usually provide a descriptive error message pointing to the exact location of the problem in the code. Common examples of syntax errors include forgetting to close a parenthesis or using an invalid keyword."
   ]
  },
  {
   "cell_type": "code",
   "execution_count": null,
   "metadata": {},
   "outputs": [],
   "source": [
    "print(\"Hello, world!')"
   ]
  },
  {
   "attachments": {},
   "cell_type": "markdown",
   "metadata": {},
   "source": [
    "### Runtime errors\n",
    "\n",
    "These occur when the code is syntactically correct but the program cannot execute it. Runtime errors are harder to identify because Python will not provide a descriptive error message. Instead, Python will simply stop executing the program and display a generic error message. Common examples of runtime errors include dividing by zero or trying to access an element in a list that does not exist."
   ]
  },
  {
   "cell_type": "code",
   "execution_count": null,
   "metadata": {},
   "outputs": [],
   "source": [
    "int('q')"
   ]
  },
  {
   "attachments": {},
   "cell_type": "markdown",
   "metadata": {},
   "source": [
    "### Logical errors\n",
    "\n",
    "These occur when the code runs without error, but produces incorrect results. Logical errors are often the most difficult to identify and fix because they do not produce error messages. Instead, they may cause the program to produce incorrect or unexpected output. Common examples of logical errors include using the wrong variable name or writing an incorrect mathematical formula."
   ]
  },
  {
   "cell_type": "code",
   "execution_count": null,
   "metadata": {},
   "outputs": [],
   "source": [
    "def three_numbers_sum(x, y, z):\n",
    "    first_two_sum = x + y\n",
    "    total_sum = first_two_sum + z\n",
    "    return total_sum\n",
    "\n",
    "print('three_numbers_sum(1, 2, 3) =', three_numbers_sum(1, 2, 3))"
   ]
  },
  {
   "attachments": {},
   "cell_type": "markdown",
   "metadata": {},
   "source": [
    "# Handling errors\n",
    "\n",
    "## Try except blocks"
   ]
  },
  {
   "cell_type": "code",
   "execution_count": null,
   "metadata": {},
   "outputs": [],
   "source": [
    "try:\n",
    "    number = int(input(\"Enter an integer: \"))\n",
    "except ValueError:\n",
    "    print(\"That was not an integer\")\n",
    "    number = 10\n",
    "\n",
    "print(number)"
   ]
  },
  {
   "cell_type": "code",
   "execution_count": null,
   "metadata": {},
   "outputs": [],
   "source": [
    "# Catch all exceptions\n",
    "try:\n",
    "    number = int(input(\"Enter an integer: \"))\n",
    "except NameError:\n",
    "    number = 10\n",
    "    print(f'input value that will be used: {number}')\n",
    "except TypeError:\n",
    "    print(\"You provided a wrong type\")\n",
    "except Exception:\n",
    "    print(\"Something went wrong\")\n",
    "\n",
    "print('Finally')"
   ]
  },
  {
   "cell_type": "markdown",
   "metadata": {},
   "source": [
    "### Raising exceptions"
   ]
  },
  {
   "cell_type": "code",
   "execution_count": null,
   "metadata": {},
   "outputs": [],
   "source": [
    "# raise the exception manually\n",
    "x = -3\n",
    "if x < 0:\n",
    "    # pass\n",
    "    raise ValueError(\"Sorry, no numbers below zero\")"
   ]
  },
  {
   "cell_type": "code",
   "execution_count": null,
   "metadata": {},
   "outputs": [],
   "source": [
    "def get_positive_number():\n",
    "    x = int(input('Enter a positive number: '))\n",
    "    if x < 0:\n",
    "        raise ValueError(\"Sorry, no numbers below zero\")\n",
    "    return x\n",
    "\n",
    "\n",
    "def receive_positive_number():\n",
    "    try:\n",
    "        return get_positive_number()\n",
    "    except ValueError as exception:\n",
    "        print(exception)\n",
    "        \n",
    "receive_positive_number()"
   ]
  },
  {
   "cell_type": "markdown",
   "metadata": {},
   "source": [
    "## Practice"
   ]
  },
  {
   "attachments": {},
   "cell_type": "markdown",
   "metadata": {},
   "source": [
    "1. Write a program that asks user to enter an integer and convert it to int. The program should have 2 functions. The first function should ask user to input an information and return inputted value. The second function that receives the inputted value and converts it to int. If the user enters something that is not an integer, this function should catch an error and ask the user to enter an integer again. if user inputs an integer, program should print this number and quit w/o any error.\n",
    "\n",
    "2. Write a program that asks user to input a string and an integer `n`. The Program should have 2 functions. The first function should ask user to enter string and integer. The second function should receive the inputted value and print the character at index `n`. If the user enters wrong value, this function should catch an error and provide a proper error message with an explanation. After the error is handled, the program should ask the user to enter a string and an integer again. If user inputs a string and an integer, program should print the character at index `n` and quit w/o any error."
   ]
  },
  {
   "attachments": {},
   "cell_type": "markdown",
   "metadata": {},
   "source": [
    "# Materials\n",
    "\n",
    "## Exceptions\n",
    "\n",
    "1. https://realpython.com/python-exceptions/\n"
   ]
  }
 ],
 "metadata": {
  "kernelspec": {
   "display_name": "Python 3.9.13 64-bit",
   "language": "python",
   "name": "python3"
  },
  "language_info": {
   "codemirror_mode": {
    "name": "ipython",
    "version": 3
   },
   "file_extension": ".py",
   "mimetype": "text/x-python",
   "name": "python",
   "nbconvert_exporter": "python",
   "pygments_lexer": "ipython3",
   "version": "3.9.16"
  },
  "orig_nbformat": 4,
  "vscode": {
   "interpreter": {
    "hash": "397704579725e15f5c7cb49fe5f0341eb7531c82d19f2c29d197e8b64ab5776b"
   }
  }
 },
 "nbformat": 4,
 "nbformat_minor": 2
}
