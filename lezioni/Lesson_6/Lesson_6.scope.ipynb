{
 "cells": [
  {
   "attachments": {},
   "cell_type": "markdown",
   "metadata": {},
   "source": [
    "# Scope\n",
    "\n",
    "In Python, a variable's scope refers to the region of the program where the variable is defined and can be accessed. The scope of a variable is determined by where it is defined in the program and how it is defined."
   ]
  },
  {
   "cell_type": "code",
   "execution_count": null,
   "metadata": {},
   "outputs": [],
   "source": [
    "# Global scope\n",
    "\n",
    "x = 2\n",
    "print(x)\n",
    "\n",
    "x = 3\n",
    "print(x)"
   ]
  },
  {
   "attachments": {},
   "cell_type": "markdown",
   "metadata": {},
   "source": [
    "## Scope in functions\n",
    "\n",
    "In Python, variables defined inside a function have local scope, which means they can only be accessed within the function. This allows you to create variables inside a function that won't interfere with variables outside of the function with the same name. For example:"
   ]
  },
  {
   "cell_type": "code",
   "execution_count": null,
   "metadata": {},
   "outputs": [],
   "source": [
    "# local scope\n",
    "\n",
    "def function():\n",
    "    y = 2\n",
    "    print(f'Inside function y = {y}')\n",
    "    \n",
    "function()\n",
    "print(f'Outside function y = {y}')"
   ]
  },
  {
   "cell_type": "code",
   "execution_count": null,
   "metadata": {},
   "outputs": [],
   "source": [
    "a = 5\n",
    "\n",
    "def function():\n",
    "    a = 2\n",
    "    print(f'Inside function a = {a}')\n",
    "    \n",
    "function()\n",
    "print(f'Outside function a = {a}')"
   ]
  },
  {
   "cell_type": "code",
   "execution_count": null,
   "metadata": {},
   "outputs": [],
   "source": [
    "# enclosing scope\n",
    "\n",
    "x = 2\n",
    "\n",
    "def outer_func():\n",
    "    y = 3\n",
    " \n",
    "    def inner_func():\n",
    "        j = 5\n",
    "        return x + y + j\n",
    "    \n",
    "    return inner_func()\n",
    "\n",
    "result = outer_func()\n",
    "print(f'Result is {result}')"
   ]
  },
  {
   "cell_type": "code",
   "execution_count": null,
   "metadata": {},
   "outputs": [],
   "source": [
    "x = 2\n",
    "\n",
    "def first_func(y):\n",
    "    j = 5\n",
    "    return x + y + j\n",
    "\n",
    "def second_func():\n",
    "    y = 3\n",
    "    x = 100\n",
    "\n",
    "    return first_func(y)\n",
    "\n",
    "result = second_func()\n",
    "print(f'Result is {result}')"
   ]
  },
  {
   "attachments": {},
   "cell_type": "markdown",
   "metadata": {},
   "source": [
    "## LEGB rule\n",
    "\n",
    "**Local (L)**: The local, or current, scope. This could be the body of a function or the top-level scope of a script. It always represents the scope that the Python interpreter is currently working in.\n",
    "\n",
    "**Enclosing (E)**: The enclosing scope. This is the scope one level up from the local scope. If the local scope is an inner function, the enclos- ing scope is the scope of the outer function. If the scope is a top-level function, the enclosing scope is the same as the global scope.\n",
    "\n",
    "**Global (G)**: The global scope, which is the top-most scope in the script. This contains all of the names defined in the script that are not contained in a function body.\n",
    "\n",
    "**Built-in (B)**: The built-in scope contains all of the names, such as keywords, that are built-in to Python. Functions such as round() and abs() are in the built-in scope. Anything that you can use without first defining yourself is contained in the built-in scope."
   ]
  },
  {
   "cell_type": "code",
   "execution_count": null,
   "metadata": {},
   "outputs": [],
   "source": [
    "total = 0\n",
    "\n",
    "def add_to_total(n):\n",
    "    total = total + n\n",
    "    print(f'Inside function total = {total}')\n",
    "\n",
    "add_to_total(5)\n",
    "print(total)"
   ]
  },
  {
   "cell_type": "code",
   "execution_count": null,
   "metadata": {},
   "outputs": [],
   "source": [
    "total = 0\n",
    "\n",
    "def add_to_total(n):\n",
    "    local_total = total + n\n",
    "    print(f'local_total = {local_total}')\n",
    "\n",
    "add_to_total(5)\n",
    "print(total)"
   ]
  },
  {
   "cell_type": "code",
   "execution_count": null,
   "metadata": {},
   "outputs": [],
   "source": [
    "total = 0\n",
    "\n",
    "def add_to_total(base_value, n):\n",
    "    return base_value + n\n",
    "\n",
    "total = add_to_total(total, 5)\n",
    "print(total)"
   ]
  },
  {
   "attachments": {},
   "cell_type": "markdown",
   "metadata": {},
   "source": [
    "# Practice\n",
    "\n",
    "Define a global variable called balance and set it to `1000`.\n",
    "\n",
    "Write a function called `transaction` that takes an argument `amount` and argument `_type` that can be either `deposit` or `withdrawal`.\n",
    "\n",
    "Inside the function create two inner functions called `deposit` and `withdrawal` that take an argument `amount`.\n",
    "\n",
    "Inside the `deposit` function, add the `amount` to the `balance` variable and print the new balance.\n",
    "\n",
    "Inside the `withdrawal` function, subtract the `amount` from the `balance` variable and print the new balance.\n",
    "\n",
    "Inside the `transaction` function, check if the `_type` argument is `deposit` or `withdrawal` and call the appropriate function.\n"
   ]
  },
  {
   "attachments": {},
   "cell_type": "markdown",
   "metadata": {},
   "source": [
    "# Materials\n",
    "\n",
    "## Scope\n",
    "\n",
    "1. https://realpython.com/python-scope-legb-rule/"
   ]
  }
 ],
 "metadata": {
  "kernelspec": {
   "display_name": "Python 3.9.13 64-bit",
   "language": "python",
   "name": "python3"
  },
  "language_info": {
   "codemirror_mode": {
    "name": "ipython",
    "version": 3
   },
   "file_extension": ".py",
   "mimetype": "text/x-python",
   "name": "python",
   "nbconvert_exporter": "python",
   "pygments_lexer": "ipython3",
   "version": "3.9.16"
  },
  "orig_nbformat": 4,
  "vscode": {
   "interpreter": {
    "hash": "397704579725e15f5c7cb49fe5f0341eb7531c82d19f2c29d197e8b64ab5776b"
   }
  }
 },
 "nbformat": 4,
 "nbformat_minor": 2
}
