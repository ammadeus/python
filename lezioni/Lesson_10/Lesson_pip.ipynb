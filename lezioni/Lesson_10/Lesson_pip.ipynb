{
 "cells": [
  {
   "attachments": {},
   "cell_type": "markdown",
   "metadata": {},
   "source": [
    "> utils.py\n",
    "\n",
    "> main.py"
   ]
  },
  {
   "attachments": {},
   "cell_type": "markdown",
   "metadata": {},
   "source": [
    "> main2.py"
   ]
  },
  {
   "attachments": {},
   "cell_type": "markdown",
   "metadata": {},
   "source": [
    "> main3.py\n",
    "\n",
    "> mypackage"
   ]
  },
  {
   "attachments": {},
   "cell_type": "markdown",
   "metadata": {},
   "source": [
    "# PIP\n",
    "\n",
    "## What is PIP?\n",
    "\n",
    "**PIP** it’s a tool that allows you to install and manage libraries and dependencies that aren’t distributed as part of the standard library. It’s a package manager for Python. \n"
   ]
  },
  {
   "cell_type": "markdown",
   "metadata": {},
   "source": [
    "Checking  that PIP is available:\n",
    "\n",
    "> which pip3\n",
    "\n",
    "\n",
    "Running pip into exact file:\n",
    "\n",
    "> python3 -m pip"
   ]
  },
  {
   "cell_type": "markdown",
   "metadata": {},
   "source": [
    "## Fixing problems with pip\n",
    "\n",
    "> zsh: command not found: pip\n",
    "\n",
    "1. Try to use pip3 instead of pip\n",
    "2. Check pip in $PATH\n",
    "\n",
    "> echo $PATH\n",
    "\n",
    "if not in the path you can try method from official [documentation](https://pip.pypa.io/en/stable/installation/#supported-methods). This command will install pip if does not installed yet/\n",
    "\n",
    "> python -m ensurepip --upgrade"
   ]
  },
  {
   "cell_type": "markdown",
   "metadata": {},
   "source": [
    "## Installing packages\n",
    "\n",
    "Python is considered a batteries included language. This means that the Python standard library contains an extensive set of packages and modules to help developers with their coding projects.\n",
    "\n",
    "At the same time, Python has an active community that contributes an even more extensive set of packages that can help you with your development needs. These packages are published to the Python Package Index, also known as PyPI.\n",
    "\n",
    "PyPI hosts an extensive collection of packages, including development frameworks, tools, and libraries. Many of these packages provide friendly interfaces to the Python standard library’s functionality\n",
    "\n",
    "https://pypi.org/"
   ]
  },
  {
   "attachments": {},
   "cell_type": "markdown",
   "metadata": {},
   "source": [
    "### Check existing libraries \n",
    "\n",
    "> pip list\n",
    "\n",
    "### install last version\n",
    "\n",
    "> python3 -m pip install requests\n",
    "\n",
    "### install specific version\n",
    "\n",
    "> python3 -m pip install oauth2client==2.2.0\n",
    "\n",
    "### install few packages\n",
    "\n",
    "> python3 -m pip install requests oauth2client google-api-python-client"
   ]
  },
  {
   "attachments": {},
   "cell_type": "markdown",
   "metadata": {},
   "source": [
    "## Requirements Files\n",
    "\n",
    "### Freezing\n",
    "\n",
    "> python3 -m pip freeze > requirements.txt\n",
    "\n",
    "\n",
    "What it consist\n",
    "\n",
    "package_name==x.y.z\n",
    "\n",
    "x - major version\n",
    "\n",
    "y - minor version\n",
    "\n",
    "z - patch version\n",
    "\n",
    "Example uwsgi==2.0.4\n",
    "\n",
    "\n",
    "\n",
    "### Install \n",
    "\n",
    "> python3 -m pip install -U -r requirements.txt\n",
    "\n"
   ]
  },
  {
   "cell_type": "markdown",
   "metadata": {},
   "source": [
    "## Virtual environment\n",
    "\n",
    "Venv provides an isolated Python interpreter for your project. Any packages that you use inside this environment will be independent of your system interpreter. This means that you can keep your project’s dependencies separate from other projects and the system at large.\n"
   ]
  },
  {
   "attachments": {},
   "cell_type": "markdown",
   "metadata": {},
   "source": [
    "> pip install virtualenv\n",
    ">\n",
    "> python3 -m venv venv_name\n",
    ">\n",
    "> source venv_name/bin/activate\n",
    ">\n",
    ">\n",
    "> pip --version\n"
   ]
  },
  {
   "cell_type": "markdown",
   "metadata": {},
   "source": [
    "## Uninstall \n",
    "\n",
    "> python3 -m pip uninstall requests\n",
    "\n",
    "Suppress question\n",
    "\n",
    "> python3 -m pip uninstall requests -y\n",
    "\n",
    "Unistall few packages:\n",
    "\n",
    "> pip uninstall -y requests google-api-python-client\n",
    "\n",
    "Uninstall all packages:\n",
    "\n",
    "> python3 -m pip uninstall -r requirements.txt -y"
   ]
  },
  {
   "attachments": {},
   "cell_type": "markdown",
   "metadata": {},
   "source": [
    "## Practice\n",
    "\n",
    "1. Create a file called hello.py that contains a single function hello(). This function should accept a single string parameter name print the text Hello {name}! to the interactive window with {name} replaced with the function argument. Add a file called main.py that imports the hello() function from hello.py and calls the function with your name."
   ]
  },
  {
   "attachments": {},
   "cell_type": "markdown",
   "metadata": {},
   "source": [
    "2. Install custom library\n",
    "    1. Create a virtual environment\n",
    "    2. Install numpy package in the virtual environment (version 1.22.4 or higher, but lower than 2.0.0)\n",
    "    3. Generete a requirements.txt file\n",
    "    4. Write a script that imports numpy. Execute code from their site (https://numpy.org/) and run it on local computer\n",
    "    5. As a result, you should send screenshot and archive with venv, requirements.txt and a .py file"
   ]
  }
 ],
 "metadata": {
  "kernelspec": {
   "display_name": "Python 3",
   "language": "python",
   "name": "python3"
  },
  "language_info": {
   "name": "python",
   "version": "3.9.16 (main, Dec  7 2022, 10:16:11) \n[Clang 14.0.0 (clang-1400.0.29.202)]"
  },
  "orig_nbformat": 4,
  "vscode": {
   "interpreter": {
    "hash": "397704579725e15f5c7cb49fe5f0341eb7531c82d19f2c29d197e8b64ab5776b"
   }
  }
 },
 "nbformat": 4,
 "nbformat_minor": 2
}
