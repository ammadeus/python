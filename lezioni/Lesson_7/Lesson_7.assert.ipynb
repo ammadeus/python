{
 "cells": [
  {
   "attachments": {},
   "cell_type": "markdown",
   "metadata": {},
   "source": [
    "# Assert statement"
   ]
  },
  {
   "cell_type": "markdown",
   "metadata": {},
   "source": [
    "The assert keyword in Python is used to test if a condition is True or False. If the condition is True, the program continues to execute. If the condition is False, the program raises an AssertionError and stops executing.\n",
    "\n",
    "Here is an example of how to use the assert keyword:"
   ]
  },
  {
   "cell_type": "code",
   "execution_count": null,
   "metadata": {},
   "outputs": [],
   "source": [
    "x = 5\n",
    "y = 10\n",
    "\n",
    "assert x < y\n",
    "\n",
    "print(\"This line will be executed because the condition is True\")"
   ]
  },
  {
   "attachments": {},
   "cell_type": "markdown",
   "metadata": {},
   "source": [
    "In this example, the condition x < y is True, so the program will print the message and continue to execute. If the condition were False, the program would raise an AssertionError."
   ]
  },
  {
   "cell_type": "code",
   "execution_count": null,
   "metadata": {},
   "outputs": [],
   "source": [
    "x = 15\n",
    "y = 10\n",
    "\n",
    "assert x < y\n",
    "\n",
    "print(\"This line will not be executed because the condition is False\")"
   ]
  },
  {
   "attachments": {},
   "cell_type": "markdown",
   "metadata": {},
   "source": [
    "\n",
    "\n",
    "The assert keyword is often used for debugging purposes, as it allows you to test the assumptions and invariants of your code and ensure that they are correct. It is generally not used in production code, as the AssertionError that it raises can be difficult for users to understand and can indicate a problem with the program rather than an error in the user's input."
   ]
  },
  {
   "cell_type": "code",
   "execution_count": null,
   "metadata": {},
   "outputs": [],
   "source": [
    "assert len((1, 2, 3)) == 3"
   ]
  },
  {
   "cell_type": "code",
   "execution_count": null,
   "metadata": {},
   "outputs": [],
   "source": [
    "def square(n):\n",
    "    return n * n"
   ]
  },
  {
   "cell_type": "code",
   "execution_count": null,
   "metadata": {},
   "outputs": [],
   "source": [
    "assert square(2) == 4"
   ]
  },
  {
   "cell_type": "code",
   "execution_count": null,
   "metadata": {},
   "outputs": [],
   "source": [
    "def test_square():\n",
    "    assert square(2) == 4\n",
    "    assert square(3) == 9\n",
    "    assert square(4) == 16\n",
    "    assert square(5) == 25\n",
    "\n",
    "    print(\"All tests passed!\")\n",
    "    \n",
    "test_square()"
   ]
  },
  {
   "attachments": {},
   "cell_type": "markdown",
   "metadata": {},
   "source": [
    "# Materials\n",
    "\n",
    "1. [Asserts](https://realpython.com/python-assert-statement/)\n"
   ]
  }
 ],
 "metadata": {
  "kernelspec": {
   "display_name": "Python 3.9.13 64-bit",
   "language": "python",
   "name": "python3"
  },
  "language_info": {
   "codemirror_mode": {
    "name": "ipython",
    "version": 3
   },
   "file_extension": ".py",
   "mimetype": "text/x-python",
   "name": "python",
   "nbconvert_exporter": "python",
   "pygments_lexer": "ipython3",
   "version": "3.9.16"
  },
  "orig_nbformat": 4,
  "vscode": {
   "interpreter": {
    "hash": "397704579725e15f5c7cb49fe5f0341eb7531c82d19f2c29d197e8b64ab5776b"
   }
  }
 },
 "nbformat": 4,
 "nbformat_minor": 2
}
