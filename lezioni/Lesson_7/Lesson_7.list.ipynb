{
 "cells": [
  {
   "attachments": {},
   "cell_type": "markdown",
   "metadata": {},
   "source": [
    "## List\n",
    "\n",
    "A list in Python is an ordered collection of items. Lists are one of the most common data types in Python, and they are used to store a collection of items that can be of any data type, including other lists. Lists are mutable, meaning that they can be changed after they are created."
   ]
  },
  {
   "attachments": {},
   "cell_type": "markdown",
   "metadata": {},
   "source": [
    "## Initializing a list"
   ]
  },
  {
   "cell_type": "code",
   "execution_count": null,
   "metadata": {},
   "outputs": [],
   "source": [
    "numbers = ['first', 2, 'third', 4, 'fifth']"
   ]
  },
  {
   "cell_type": "code",
   "execution_count": null,
   "metadata": {},
   "outputs": [],
   "source": [
    "_tuple = (1, 2, 3)\n",
    "_list = list(_tuple)\n",
    "print(_list)"
   ]
  },
  {
   "cell_type": "code",
   "execution_count": null,
   "metadata": {},
   "outputs": [],
   "source": [
    "list('a,b,c')"
   ]
  },
  {
   "attachments": {},
   "cell_type": "markdown",
   "metadata": {},
   "source": [
    "## Indexing"
   ]
  },
  {
   "cell_type": "code",
   "execution_count": null,
   "metadata": {},
   "outputs": [],
   "source": [
    "numbers = [1, 2, 3, 4, 5]"
   ]
  },
  {
   "cell_type": "code",
   "execution_count": null,
   "metadata": {},
   "outputs": [],
   "source": [
    "len(numbers)"
   ]
  },
  {
   "cell_type": "code",
   "execution_count": null,
   "metadata": {},
   "outputs": [],
   "source": [
    "numbers[0]"
   ]
  },
  {
   "cell_type": "code",
   "execution_count": null,
   "metadata": {},
   "outputs": [],
   "source": [
    "numbers[1:5:2]"
   ]
  },
  {
   "cell_type": "markdown",
   "metadata": {},
   "source": [
    "## Mutate a list"
   ]
  },
  {
   "cell_type": "code",
   "execution_count": null,
   "metadata": {},
   "outputs": [],
   "source": [
    "numbers[1] = 100\n",
    "\n",
    "print(numbers)"
   ]
  },
  {
   "cell_type": "code",
   "execution_count": null,
   "metadata": {},
   "outputs": [],
   "source": [
    "numbers.append(6)\n",
    "\n",
    "print(numbers)"
   ]
  },
  {
   "cell_type": "code",
   "execution_count": null,
   "metadata": {},
   "outputs": [],
   "source": [
    "numbers = numbers + [6, 7, 8, 9]\n",
    "\n",
    "print(numbers)"
   ]
  },
  {
   "cell_type": "code",
   "execution_count": null,
   "metadata": {},
   "outputs": [],
   "source": [
    "print(numbers)\n",
    "numbers.remove(6) # remove the first occurrence of 6\n",
    "print(numbers)"
   ]
  },
  {
   "cell_type": "markdown",
   "metadata": {},
   "source": [
    "## List operations"
   ]
  },
  {
   "cell_type": "code",
   "execution_count": null,
   "metadata": {},
   "outputs": [],
   "source": [
    "unsorted_list = [3, 2, 1, 7, 4]\n",
    "unsorted_list.sort()\n",
    "print(f'use sort: {unsorted_list}')"
   ]
  },
  {
   "cell_type": "code",
   "execution_count": null,
   "metadata": {},
   "outputs": [],
   "source": [
    "numbers_str = ['twenty', 'one']\n",
    "numbers_str.sort(key=len)\n",
    "print(numbers_str)"
   ]
  },
  {
   "cell_type": "markdown",
   "metadata": {},
   "source": [
    "## List comprehension"
   ]
  },
  {
   "cell_type": "code",
   "execution_count": null,
   "metadata": {},
   "outputs": [],
   "source": [
    "squares = []\n",
    "for number in numbers:\n",
    "    squares.append(number**2)\n",
    "\n",
    "print('Squares', squares)"
   ]
  },
  {
   "cell_type": "code",
   "execution_count": null,
   "metadata": {},
   "outputs": [],
   "source": [
    "# [expression for item in iterable]\n",
    "squares = [i**2 for i in numbers]\n",
    "print(squares)"
   ]
  },
  {
   "cell_type": "code",
   "execution_count": null,
   "metadata": {},
   "outputs": [],
   "source": [
    "elements = []\n",
    "print(numbers)\n",
    "for number in numbers:\n",
    "    if number < 10:\n",
    "        elements.append(str(number**5))\n",
    "\n",
    "print('Squares', elements)"
   ]
  },
  {
   "cell_type": "code",
   "execution_count": null,
   "metadata": {},
   "outputs": [],
   "source": [
    "# [expression for item in iterable if condition]\n",
    "squares = [str(i**5) for i in numbers if i < 10]\n",
    "\n",
    "print(squares)"
   ]
  },
  {
   "cell_type": "code",
   "execution_count": null,
   "metadata": {},
   "outputs": [],
   "source": [
    "rating = '54.83, 36, 54'\n",
    "\n",
    "number_rating = [float(i.strip()) for i in rating.split(',')]\n",
    "\n",
    "print(number_rating)"
   ]
  },
  {
   "attachments": {},
   "cell_type": "markdown",
   "metadata": {},
   "source": [
    "## Nesting"
   ]
  },
  {
   "cell_type": "code",
   "execution_count": null,
   "metadata": {},
   "outputs": [],
   "source": [
    "nested_list = [[1, 2, 3], [4, 5, 6], [7, 8, 9]]\n",
    "print(f'len(nested_list): {len(nested_list)}')"
   ]
  },
  {
   "cell_type": "code",
   "execution_count": null,
   "metadata": {},
   "outputs": [],
   "source": [
    "nested_list[1][2]"
   ]
  },
  {
   "cell_type": "code",
   "execution_count": null,
   "metadata": {},
   "outputs": [],
   "source": [
    "for i in nested_list:\n",
    "    for j in i:\n",
    "        print(j)\n",
    "    print()"
   ]
  },
  {
   "cell_type": "markdown",
   "metadata": {},
   "source": [
    "## Copying lists"
   ]
  },
  {
   "cell_type": "code",
   "execution_count": null,
   "metadata": {},
   "outputs": [],
   "source": [
    "first = [1, 2, 3]"
   ]
  },
  {
   "attachments": {},
   "cell_type": "markdown",
   "metadata": {},
   "source": [
    "![first](images/first_copy.png)"
   ]
  },
  {
   "cell_type": "code",
   "execution_count": null,
   "metadata": {},
   "outputs": [],
   "source": [
    "second = first"
   ]
  },
  {
   "attachments": {},
   "cell_type": "markdown",
   "metadata": {},
   "source": [
    "![second](images/second_copy.png)"
   ]
  },
  {
   "cell_type": "code",
   "execution_count": null,
   "metadata": {},
   "outputs": [],
   "source": [
    "second[0] = 0"
   ]
  },
  {
   "attachments": {},
   "cell_type": "markdown",
   "metadata": {},
   "source": [
    "![third](images/third_copy.png)"
   ]
  },
  {
   "cell_type": "code",
   "execution_count": null,
   "metadata": {},
   "outputs": [],
   "source": [
    "print('first: ', first)\n",
    "print('second: ', second)"
   ]
  },
  {
   "cell_type": "code",
   "execution_count": null,
   "metadata": {},
   "outputs": [],
   "source": [
    "first = [1, 2, 3]"
   ]
  },
  {
   "cell_type": "markdown",
   "metadata": {},
   "source": [
    "![first](images/first_copy.png)"
   ]
  },
  {
   "cell_type": "code",
   "execution_count": null,
   "metadata": {},
   "outputs": [],
   "source": [
    "second = first[:] # [1, 2, 3]\n"
   ]
  },
  {
   "attachments": {},
   "cell_type": "markdown",
   "metadata": {},
   "source": [
    "![4](images/4.png)"
   ]
  },
  {
   "cell_type": "code",
   "execution_count": null,
   "metadata": {},
   "outputs": [],
   "source": [
    "second[0] = 0"
   ]
  },
  {
   "attachments": {},
   "cell_type": "markdown",
   "metadata": {},
   "source": [
    "![5](images/5.png)"
   ]
  },
  {
   "cell_type": "code",
   "execution_count": null,
   "metadata": {},
   "outputs": [],
   "source": [
    "print('first: ', first)\n",
    "print('second: ', second)"
   ]
  },
  {
   "cell_type": "markdown",
   "metadata": {},
   "source": [
    "## List as a default value"
   ]
  },
  {
   "cell_type": "code",
   "execution_count": null,
   "metadata": {},
   "outputs": [],
   "source": [
    "def some_function(value, default_collection = 'abc'):\n",
    "    default_collection += value\n",
    "    print(default_collection)"
   ]
  },
  {
   "cell_type": "code",
   "execution_count": null,
   "metadata": {},
   "outputs": [],
   "source": [
    "some_function('d')"
   ]
  },
  {
   "cell_type": "code",
   "execution_count": null,
   "metadata": {},
   "outputs": [],
   "source": [
    "def some_function(value, default_collection = []):\n",
    "    default_collection.append(value)\n",
    "    print(default_collection)"
   ]
  },
  {
   "cell_type": "code",
   "execution_count": null,
   "metadata": {},
   "outputs": [],
   "source": [
    "some_function(True)"
   ]
  },
  {
   "cell_type": "code",
   "execution_count": null,
   "metadata": {},
   "outputs": [],
   "source": [
    "some_function.__defaults__"
   ]
  },
  {
   "cell_type": "code",
   "execution_count": null,
   "metadata": {},
   "outputs": [],
   "source": [
    "def some_function(value, default_collection = None):\n",
    "    if default_collection is None:\n",
    "        default_collection = []\n",
    "\n",
    "    default_collection.append(value)\n",
    "    print(default_collection)"
   ]
  },
  {
   "cell_type": "code",
   "execution_count": null,
   "metadata": {},
   "outputs": [],
   "source": [
    "some_function(5)"
   ]
  },
  {
   "attachments": {},
   "cell_type": "markdown",
   "metadata": {},
   "source": [
    "## Practice\n",
    "\n",
    "1. Write a Python program to compute the difference between two lists.\n",
    "\n",
    "    Sample data: ['a', 'b', 'c', 'd'], ['c', 'd', 'e']\n",
    "\n",
    "    Expected Output:\n",
    "\n",
    "    first-second: ['a', 'b']\n",
    "\n",
    "    second-first: ['e']\n",
    "    ```python\n",
    "    def compute_difference(first: list, second: list) -> tuple:\n",
    "        # write your code here\n",
    "        pass\n",
    "\n",
    "    def test_compute_difference():\n",
    "        result1 = compute_difference(['a', 'b', 'c', 'c', 'd'], ['c', 'd', 'e'])\n",
    "        assert result1 == (['a', 'b', 'c'], ['e'])\n",
    "\n",
    "        result2 = compute_difference([], ['c', 'd', 'e'])\n",
    "        assert result2 == ([], ['c', 'd', 'e'])\n",
    "\n",
    "        result3 = compute_difference([1, 2, 3], [4, 4, 5, 6])\n",
    "        assert result3 == ([1, 2, 3], [4, 4, 5, 6])\n",
    "\n",
    "        result3 = compute_difference([1, 2, 3], [2, 3, 4])\n",
    "        assert result3 == ([1], [4])\n",
    "    ```\n",
    "\n",
    "\n",
    "\n",
    "2. Given an array of integers nums and an integer target, return indices of the two numbers such that they add up to target.\n",
    "\n",
    "    You may assume that each input would have exactly one solution, and you may not use the same element twice.\n",
    "\n",
    "    You can return the answer in any order.\n",
    "\n",
    "    **Example 1:**\n",
    "\n",
    "    Input: nums = [2,7,11,15], target = 9\n",
    "\n",
    "    Output: [0,1]\n",
    "\n",
    "    Explanation: Because nums[0] + nums[1] == 9, we return [0, 1].\n",
    "\n",
    "    **Example 2:**\n",
    "\n",
    "    Input: nums = [3,2,4], target = 6\n",
    "\n",
    "    Output: [1,2]\n",
    "\n",
    "    **Example 3:**\n",
    "\n",
    "    Input: nums = [3,3], target = 6\n",
    "\n",
    "    Output: [0,1]\n",
    "\n",
    "    ```python\n",
    "    def sum_of_two(nums: list, target: int) -> list:\n",
    "        # write your code here\n",
    "        pass\n",
    "\n",
    "    def test_sum_of_two():\n",
    "        result1 = sum_of_two([2,7,11,15], 9)\n",
    "        assert result1 == [0, 1]\n",
    "\n",
    "        result2 = sum_of_two([3,2,4], 6)\n",
    "        assert result2 == [1, 2]\n",
    "\n",
    "        result3 = sum_of_two([3,3], 6)\n",
    "        assert result3 == [0, 1]\n",
    "    ```\n",
    "\n",
    "3. Write a program that takes a list of integers as input and returns a new list that contains only the elements that are unique (i.e., that appear only once in the list). For example, if the input list is [1, 2, 3, 2, 4, 5, 5], the output list should be [1, 3, 4]. \n",
    "\n",
    "    ```python\n",
    "    def unique_elements(arr: list) -> list:\n",
    "        # write your code here\n",
    "        pass\n",
    "\n",
    "    def test_unique_elements():\n",
    "        result1 = unique_elements([1, 2, 3, 2, 4, 5, 5])\n",
    "        assert result1 == [1, 3, 4]\n",
    "\n",
    "        result2 = unique_elements([1, 2, 3, 4, 5])\n",
    "        assert result2 == [1, 2, 3, 4, 5]\n",
    "\n",
    "        result3 = unique_elements([1, 1, 1, 1, 1])\n",
    "        assert result3 == []\n",
    "    ```\n",
    "\n",
    "4. Write a program that takes a list of integers as input and returns a new list that contains only the elements that appear an odd number of times in the list. For example, if the input list is [1, 2, 3, 2, 4, 5, 5], the output list should be [1, 3, 4].\n",
    "    \n",
    "    ```python\n",
    "    def odd_elements(arr: list) -> list:\n",
    "        # write your code here\n",
    "        pass\n",
    "\n",
    "    def test_odd_elements():\n",
    "        result1 = odd_elements([1, 2, 3, 2, 4, 5, 5])\n",
    "        assert result1 == [1, 3, 4]\n",
    "\n",
    "        result1 = odd_elements([1, 2, 3, 2, 4, 5, 5, 6, 6, 6])\n",
    "        assert result1 == [1, 3, 4, 6]\n",
    "    ```\n",
    "\n",
    "4. Write a program that takes a list of integers as input and returns the second-largest element in the list. If the list has fewer than two elements, the program should return None. For example, if the input list is [1, 2, 3, 2, 4, 5, 5], the program should return 5. Don`t use the sort method.\n",
    "    \n",
    "    ```python\n",
    "    def second_largest_element(arr: list) -> int:\n",
    "        # write your code here\n",
    "        pass\n",
    "\n",
    "    def test_second_largest_element():\n",
    "        result1 = second_largest_element([1, 2, 3, 2, 4, 5, 5])\n",
    "        assert result1 == 5\n",
    "\n",
    "        result2 = second_largest_element([1, 2, 3, 4, 5])\n",
    "        assert result2 == 4\n",
    "\n",
    "        result3 = second_largest_element([1, 1, 1, 1, 1])\n",
    "        assert result3 == None\n",
    "    ```\n",
    "\n",
    "4. Optional (hard): Longest Increasing Sequence\n",
    "\n",
    "    Have the function longest_increasing_sequence take the list of positive integers and return the length of the longest increasing subsequence (LIS). A LIS is a subset of the original list where the numbers are in sorted order, from lowest to highest, and are in increasing order. The sequence does not need to be contiguous or unique, and there can be several different subsequences. For example: if arr is [4, 3, 5, 1, 6] then a possible LIS is [3, 5, 6], and another is [1, 6]. For this input, your program should return 3 because that is the length of the longest increasing subsequence.\n",
    "    ```\n",
    "    Examples\n",
    "\n",
    "    Input: [9, 9, 4, 2]\n",
    "\n",
    "    Output: 1\n",
    "\n",
    "    Input: [10, 22, 9, 33, 21, 50, 41, 60, 22, 68, 90]\n",
    "\n",
    "    Output: 7\n",
    "\n",
    "    \n",
    "    ```\n",
    "    ```python\n",
    "    def longest_increasing_sequence(arr: list) -> int:\n",
    "        # write your code here\n",
    "        pass\n",
    "\n",
    "    def test_sum_of_two():\n",
    "        result1 = longest_increasing_sequence([9, 9, 4, 2])\n",
    "        assert result1 == 1\n",
    "\n",
    "        result2 = longest_increasing_sequence([10, 22, 9, 33, 21, 50, 41, 60, 22, 68, 90])\n",
    "        assert result2 == 7\n",
    "\n",
    "        result3 = longest_increasing_sequence([4, 3, 5, 1, 6])\n",
    "        assert result3 == 3\n",
    "    ```"
   ]
  },
  {
   "attachments": {},
   "cell_type": "markdown",
   "metadata": {},
   "source": [
    "7. Sort the following list by population. Calculate average and total population for cities from this list:\n",
    "```\n",
    "[\n",
    "    ('New York City', 8550405),\n",
    "    ('Los Angeles', 3792621),\n",
    "    ('Chicago', 2695598),\n",
    "    ('Houston', 2100263),\n",
    "    ('Philadelphia', 1526006),\n",
    "    ('Phoenix', 1445632),\n",
    "    ('San Antonio', 1327407),\n",
    "    ('San Diego', 1307402),\n",
    "    ('Dallas', 1197816),\n",
    "    ('San Jose', 945942),\n",
    "]\n",
    "```\n"
   ]
  },
  {
   "attachments": {},
   "cell_type": "markdown",
   "metadata": {},
   "source": [
    "# Materials\n",
    "\n",
    "1. [List and Tuples](https://realpython.com/python-lists-tuples/)\n",
    "2. [WHat is generator](https://nvie.com/posts/iterators-vs-generators/)"
   ]
  }
 ],
 "metadata": {
  "kernelspec": {
   "display_name": "Python 3.9.13 64-bit",
   "language": "python",
   "name": "python3"
  },
  "language_info": {
   "codemirror_mode": {
    "name": "ipython",
    "version": 3
   },
   "file_extension": ".py",
   "mimetype": "text/x-python",
   "name": "python",
   "nbconvert_exporter": "python",
   "pygments_lexer": "ipython3",
   "version": "3.9.16"
  },
  "orig_nbformat": 4,
  "vscode": {
   "interpreter": {
    "hash": "397704579725e15f5c7cb49fe5f0341eb7531c82d19f2c29d197e8b64ab5776b"
   }
  }
 },
 "nbformat": 4,
 "nbformat_minor": 2
}
