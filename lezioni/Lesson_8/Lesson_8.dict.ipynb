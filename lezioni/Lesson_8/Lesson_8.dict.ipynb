{
 "cells": [
  {
   "attachments": {},
   "cell_type": "markdown",
   "metadata": {},
   "source": [
    "# Dictionary\n",
    "\n",
    "A dictionary in Python is a built-in data type that allows you to store key-value pairs. It is an unordered collection of elements where each element is a pair consisting of a key and a corresponding value. \n"
   ]
  },
  {
   "cell_type": "markdown",
   "metadata": {},
   "source": [
    "\n",
    "| Key  | Value |\n",
    "| -- | -- |\n",
    "| 'France' | 'Paris |\n",
    "| 'Ukraine' | 'Kyiv' |\n",
    "| 'Germany' | 'Berlin' |\n"
   ]
  },
  {
   "attachments": {},
   "cell_type": "markdown",
   "metadata": {},
   "source": [
    "## Defining a dictionary"
   ]
  },
  {
   "cell_type": "code",
   "execution_count": 4,
   "metadata": {},
   "outputs": [
    {
     "name": "stdout",
     "output_type": "stream",
     "text": [
      "{'France': 'Paris', 'Ukraine': 'Kyiv', 'Germany': 'Berlin', 'South Africa': 'Cape Town'}\n"
     ]
    }
   ],
   "source": [
    "capitals = {\n",
    "    'France': 'Paris',\n",
    "    'Ukraine': 'Kyiv',\n",
    "    'Germany': 'Berlin',\n",
    "    'South Africa': \"Cape Town\",\n",
    "}\n",
    "print(capitals)"
   ]
  },
  {
   "cell_type": "code",
   "execution_count": 5,
   "metadata": {},
   "outputs": [
    {
     "data": {
      "text/plain": [
       "'Paris'"
      ]
     },
     "execution_count": 5,
     "metadata": {},
     "output_type": "execute_result"
    }
   ],
   "source": [
    "capitals['France']"
   ]
  },
  {
   "attachments": {},
   "cell_type": "markdown",
   "metadata": {},
   "source": [
    "## Mutate a dictionary"
   ]
  },
  {
   "cell_type": "code",
   "execution_count": 6,
   "metadata": {},
   "outputs": [],
   "source": [
    "capitals['South Africa'] = ['Pretoria', 'Cape Town', 'Bloemfontein']"
   ]
  },
  {
   "cell_type": "code",
   "execution_count": 7,
   "metadata": {},
   "outputs": [
    {
     "data": {
      "text/plain": [
       "{'France': 'Paris',\n",
       " 'Ukraine': 'Kyiv',\n",
       " 'Germany': 'Berlin',\n",
       " 'South Africa': ['Pretoria', 'Cape Town', 'Bloemfontein']}"
      ]
     },
     "execution_count": 7,
     "metadata": {},
     "output_type": "execute_result"
    }
   ],
   "source": [
    "capitals"
   ]
  },
  {
   "cell_type": "code",
   "execution_count": null,
   "metadata": {},
   "outputs": [],
   "source": [
    "capitals['South Africa'][0]"
   ]
  },
  {
   "cell_type": "code",
   "execution_count": 1,
   "metadata": {},
   "outputs": [
    {
     "ename": "NameError",
     "evalue": "name 'capitals' is not defined",
     "output_type": "error",
     "traceback": [
      "\u001b[1;31m---------------------------------------------------------------------------\u001b[0m",
      "\u001b[1;31mNameError\u001b[0m                                 Traceback (most recent call last)",
      "Cell \u001b[1;32mIn[1], line 1\u001b[0m\n\u001b[1;32m----> 1\u001b[0m capitals[\u001b[39m0\u001b[39m] \u001b[39m=\u001b[39m [\u001b[39m1\u001b[39m, \u001b[39m10\u001b[39m]\n",
      "\u001b[1;31mNameError\u001b[0m: name 'capitals' is not defined"
     ]
    }
   ],
   "source": [
    "capitals[0] = [1, 10]"
   ]
  },
  {
   "cell_type": "code",
   "execution_count": 8,
   "metadata": {},
   "outputs": [
    {
     "ename": "KeyError",
     "evalue": "0",
     "output_type": "error",
     "traceback": [
      "\u001b[1;31m---------------------------------------------------------------------------\u001b[0m",
      "\u001b[1;31mKeyError\u001b[0m                                  Traceback (most recent call last)",
      "Cell \u001b[1;32mIn[8], line 1\u001b[0m\n\u001b[1;32m----> 1\u001b[0m \u001b[39mprint\u001b[39m(capitals[\u001b[39m0\u001b[39;49m])\n",
      "\u001b[1;31mKeyError\u001b[0m: 0"
     ]
    }
   ],
   "source": [
    "print(capitals[0])"
   ]
  },
  {
   "cell_type": "code",
   "execution_count": 9,
   "metadata": {},
   "outputs": [
    {
     "ename": "TypeError",
     "evalue": "unhashable type: 'list'",
     "output_type": "error",
     "traceback": [
      "\u001b[1;31m---------------------------------------------------------------------------\u001b[0m",
      "\u001b[1;31mTypeError\u001b[0m                                 Traceback (most recent call last)",
      "Cell \u001b[1;32mIn[9], line 1\u001b[0m\n\u001b[1;32m----> 1\u001b[0m capitals[[\u001b[39m1\u001b[39;49m, \u001b[39m2\u001b[39;49m, \u001b[39m3\u001b[39;49m]] \u001b[39m=\u001b[39m \u001b[39m10\u001b[39m\n",
      "\u001b[1;31mTypeError\u001b[0m: unhashable type: 'list'"
     ]
    }
   ],
   "source": [
    "capitals[[1, 2, 3]] = 10"
   ]
  },
  {
   "cell_type": "code",
   "execution_count": null,
   "metadata": {},
   "outputs": [],
   "source": [
    "del capitals[\"Italy\"]\n",
    "print(capitals)"
   ]
  },
  {
   "cell_type": "code",
   "execution_count": null,
   "metadata": {},
   "outputs": [],
   "source": [
    "capitals.update({'Japan': 'Tokyo', 'South Korea': 'Seoul'})"
   ]
  },
  {
   "cell_type": "markdown",
   "metadata": {},
   "source": [
    "## Operations with dictionaries"
   ]
  },
  {
   "cell_type": "code",
   "execution_count": null,
   "metadata": {},
   "outputs": [],
   "source": [
    "print('France' in capitals)"
   ]
  },
  {
   "cell_type": "code",
   "execution_count": null,
   "metadata": {},
   "outputs": [],
   "source": [
    "print('Paris' in capitals)"
   ]
  },
  {
   "cell_type": "code",
   "execution_count": 2,
   "metadata": {},
   "outputs": [
    {
     "ename": "NameError",
     "evalue": "name 'capitals' is not defined",
     "output_type": "error",
     "traceback": [
      "\u001b[1;31m---------------------------------------------------------------------------\u001b[0m",
      "\u001b[1;31mNameError\u001b[0m                                 Traceback (most recent call last)",
      "Cell \u001b[1;32mIn[2], line 1\u001b[0m\n\u001b[1;32m----> 1\u001b[0m \u001b[39mfor\u001b[39;00m country \u001b[39min\u001b[39;00m capitals:\n\u001b[0;32m      2\u001b[0m     \u001b[39mprint\u001b[39m(\u001b[39mf\u001b[39m\u001b[39m'\u001b[39m\u001b[39mCountry: \u001b[39m\u001b[39m{\u001b[39;00mcountry\u001b[39m}\u001b[39;00m\u001b[39m Capital: \u001b[39m\u001b[39m{\u001b[39;00mcapitals[country]\u001b[39m}\u001b[39;00m\u001b[39m'\u001b[39m)\n",
      "\u001b[1;31mNameError\u001b[0m: name 'capitals' is not defined"
     ]
    }
   ],
   "source": [
    "for country in capitals:\n",
    "    print(f'Country: {country} Capital: {capitals[country]}')"
   ]
  },
  {
   "cell_type": "code",
   "execution_count": 10,
   "metadata": {},
   "outputs": [
    {
     "name": "stdout",
     "output_type": "stream",
     "text": [
      "Keys: dict_keys(['France', 'Ukraine', 'Germany', 'South Africa'])\n",
      "Keys: dict_values(['Paris', 'Kyiv', 'Berlin', ['Pretoria', 'Cape Town', 'Bloemfontein']])\n",
      "Items: dict_items([('France', 'Paris'), ('Ukraine', 'Kyiv'), ('Germany', 'Berlin'), ('South Africa', ['Pretoria', 'Cape Town', 'Bloemfontein'])])\n"
     ]
    }
   ],
   "source": [
    "print(f'Keys: {capitals.keys()}')\n",
    "print(f'Keys: {capitals.values()}')\n",
    "print(f'Items: {capitals.items()}')"
   ]
  },
  {
   "cell_type": "markdown",
   "metadata": {},
   "source": [
    "### Get method"
   ]
  },
  {
   "cell_type": "code",
   "execution_count": null,
   "metadata": {},
   "outputs": [],
   "source": [
    "capitals['Poland']"
   ]
  },
  {
   "cell_type": "code",
   "execution_count": null,
   "metadata": {},
   "outputs": [],
   "source": [
    "if 'Poland' in capitals:\n",
    "    print(capitals['Poland'])"
   ]
  },
  {
   "cell_type": "code",
   "execution_count": null,
   "metadata": {},
   "outputs": [],
   "source": [
    "capitals.get('Poland')"
   ]
  },
  {
   "cell_type": "code",
   "execution_count": null,
   "metadata": {},
   "outputs": [],
   "source": [
    "countries = {\n",
    "    'Ukraine': {\n",
    "        'population': 40_000_000,\n",
    "        'fact': 'The capital of Ukraine is Kyiv',\n",
    "        'capital': 'Kyiv',\n",
    "    },\n",
    "    'France': {\n",
    "        'population': 67_000_000,\n",
    "        'fact': 'The capital of France is Paris',\n",
    "        'capital': 'Paris',\n",
    "    },\n",
    "    'Germany': {\n",
    "        'population': 80_000_000,\n",
    "        'fact': 'The capital of Germany is Berlin',\n",
    "        'capital': 'Berlin',\n",
    "    },\n",
    "}"
   ]
  },
  {
   "cell_type": "code",
   "execution_count": null,
   "metadata": {},
   "outputs": [],
   "source": [
    "countries['Ukraine']['capital']"
   ]
  },
  {
   "cell_type": "code",
   "execution_count": null,
   "metadata": {},
   "outputs": [],
   "source": [
    "countries.get('Poland', {}).get('capital')"
   ]
  },
  {
   "cell_type": "code",
   "execution_count": null,
   "metadata": {},
   "outputs": [],
   "source": [
    "d = {}"
   ]
  },
  {
   "cell_type": "code",
   "execution_count": null,
   "metadata": {},
   "outputs": [],
   "source": [
    "import random\n",
    "\n",
    "for i in range(100):\n",
    "    side = random.randint(1, 6)\n",
    "    if side in d:\n",
    "        d[side] += 1\n",
    "    else:\n",
    "        d[side] = 1"
   ]
  },
  {
   "cell_type": "code",
   "execution_count": null,
   "metadata": {},
   "outputs": [],
   "source": [
    "d"
   ]
  },
  {
   "attachments": {},
   "cell_type": "markdown",
   "metadata": {},
   "source": [
    "## args and kwargs\n",
    "\n",
    "In Python, *args and **kwargs are special syntax used in function definitions to allow the function to accept a variable number of arguments.\n",
    "\n",
    "*args is used to pass a variable number of non-keyword arguments to a function. It allows you to pass any number of positional arguments to a function. The *args syntax collects all the arguments into a tuple, which can then be processed inside the function. Here's an example:"
   ]
  },
  {
   "cell_type": "code",
   "execution_count": null,
   "metadata": {},
   "outputs": [],
   "source": [
    "# args example\n",
    "def sum_numbers(*args):\n",
    "    print(args)\n",
    "    return sum(args)"
   ]
  },
  {
   "cell_type": "code",
   "execution_count": null,
   "metadata": {},
   "outputs": [],
   "source": [
    "sum_numbers(1, 2)"
   ]
  },
  {
   "cell_type": "code",
   "execution_count": null,
   "metadata": {},
   "outputs": [],
   "source": [
    "sum_numbers(1, 2, 3, 4, 5)"
   ]
  },
  {
   "cell_type": "code",
   "execution_count": null,
   "metadata": {},
   "outputs": [],
   "source": [
    "# kwargs example\n",
    "def kwargs_example(**kwargs):\n",
    "    for key, value in kwargs.items():\n",
    "        print(f'{key}: {value}')"
   ]
  },
  {
   "cell_type": "code",
   "execution_count": null,
   "metadata": {},
   "outputs": [],
   "source": [
    "kwargs_example(name=\"Alice\", age=25, city=\"New York\")"
   ]
  },
  {
   "cell_type": "code",
   "execution_count": null,
   "metadata": {},
   "outputs": [],
   "source": [
    "def function_with_kwargs(argument1, *args, **kwargs):\n",
    "    print(f'argument1: {argument1}')\n",
    "    print(f'args: {args}')\n",
    "    print(f'kwargs: {kwargs}')"
   ]
  },
  {
   "cell_type": "code",
   "execution_count": null,
   "metadata": {},
   "outputs": [],
   "source": [
    "function_with_kwargs(1, 2, 3, argument4=4, argument5=5)"
   ]
  },
  {
   "attachments": {},
   "cell_type": "markdown",
   "metadata": {},
   "source": [
    "Both *args and **kwargs are very useful when you want to write functions that can accept a flexible number of arguments, without knowing in advance how many arguments will be passed to the function.\n",
    "\n",
    "## Unpacking\n",
    "\n",
    "The asterisk symbol can be used to unpack iterables like tuples and lists. This is done by placing the asterisk before the iterable."
   ]
  },
  {
   "cell_type": "code",
   "execution_count": null,
   "metadata": {},
   "outputs": [],
   "source": [
    "d = (1, 2, 3)\n",
    "\n",
    "c = (4, 5, 6, d)\n",
    "\n",
    "print(c)"
   ]
  },
  {
   "cell_type": "code",
   "execution_count": null,
   "metadata": {},
   "outputs": [],
   "source": [
    "d = (1, 2, 3)\n",
    "\n",
    "c = (4, 5, 6, *d)\n",
    "\n",
    "print(c)"
   ]
  },
  {
   "cell_type": "code",
   "execution_count": null,
   "metadata": {},
   "outputs": [],
   "source": [
    "d = {1: 2, 3: 4}\n",
    "\n",
    "c = {5: 6, **d}\n",
    "\n",
    "print(c)"
   ]
  },
  {
   "attachments": {},
   "cell_type": "markdown",
   "metadata": {},
   "source": [
    "#  Practice:\n",
    "\n",
    "1. Write a game where user should guess of a capital of the country that you have in your dictionary.\n",
    "\n",
    "    capitals = {\n",
    "        'Ukraine': 'Kyiv',\n",
    "        'France': 'Paris',\n",
    "        'Germany': 'Berlin',\n",
    "        'Italy': 'Rome',\n",
    "        'USA': 'Washington',\n",
    "        'Canada': 'Ottawa',\n",
    "        'Switzerland': 'Bern',\n",
    "        'Austria': 'Vienna',\n",
    "        'Belgium': 'Brussels',\n",
    "        'Sweden': 'Stockholm',\n",
    "        'Norway': 'Oslo',\n",
    "        'Denmark': 'Copenhagen',\n",
    "        'Finland': 'Helsinki',\n",
    "        'Poland': 'Warsaw',\n",
    "        'Romania': 'Bucharest',\n",
    "        'Bulgaria': 'Sofia',\n",
    "        'Greece': 'Athens',\n",
    "        ...\n",
    "    }\n",
    "\n",
    "    You should show user a random country from the list and ask him to guess the capital. If user input right capital, print \"You are right!\", add him a point and ask him to guess another country. If not, you should ask again. User should be able to quit the game by typing \"exit\".\n",
    "    You should print current score after each round. Also, you should print the final score before user quit the game.\n",
    "\n",
    "\n",
    "    Optional: \n",
    "    1. Give user a hint if he guesses wrong. Hint should looks like first letter of the capital. If you user make another mistake, you should print one more letter from the capital.\n",
    "\n",
    "    2. If user make a mistake you should decrement his lives. Initial amount of lives is 3. Game will end when user has no lives left. You should print the final score after user has no lives left."
   ]
  },
  {
   "attachments": {},
   "cell_type": "markdown",
   "metadata": {},
   "source": [
    "\n",
    "2. **Optional** Roman numerals are represented by seven different symbols: I, V, X, L, C, D and M.\n",
    "\n",
    "    Symbol       Value\n",
    "    I             1\n",
    "    V             5\n",
    "    X             10\n",
    "    L             50\n",
    "    C             100\n",
    "    D             500\n",
    "    M             1000\n",
    "\n",
    "    For example, 2 is written as II in Roman numeral, just two ones added together. 12 is written as XII, which is simply X + II. The number 27 is written as XXVII, which is XX + V + II.\n",
    "\n",
    "    Roman numerals are usually written largest to smallest from left to right. However, the numeral for four is not IIII. Instead, the number four is written as IV. Because the one is before the five we subtract it making four. The same principle applies to the number nine, which is written as IX. There are six instances where subtraction is used:\n",
    "\n",
    "    * I can be placed before V (5) and X (10) to make 4 and 9. \n",
    "    * X can be placed before L (50) and C (100) to make 40 and 90. \n",
    "    * can be placed before D (500) and M (1000) to make 400 and 900.\n",
    "\n",
    "    Given a roman numeral, convert it to an integer.\n",
    "\n",
    "        Example 1:\n",
    "\n",
    "        Input: s = \"III\"\n",
    "        Output: 3\n",
    "        Explanation: III = 3.\n",
    "\n",
    "        Example 2:\n",
    "\n",
    "        Input: s = \"LVIII\"\n",
    "        Output: 58\n",
    "        Explanation: L = 50, V= 5, III = 3.\n",
    "\n",
    "        Example 3:\n",
    "\n",
    "        Input: s = \"MCMXCIV\"\n",
    "        Output: 1994\n",
    "        Explanation: M = 1000, CM = 900, XC = 90 and IV = 4.\n",
    "\n",
    "    ```python\n",
    "    def roman_to_int(s: str) -> int:\n",
    "        # write your code here\n",
    "\n",
    "    def test_roman_to_int():\n",
    "        result1 = roman_to_int(\"III\")\n",
    "        assert result1 == 3\n",
    "\n",
    "        result1 = roman_to_int(\"LVIII\")\n",
    "        assert result1 == 58\n",
    "\n",
    "        result1 = roman_to_int(\"MCMXCIV\")\n",
    "        assert result1 == 1994\n",
    "    ```\n",
    "\n",
    "\n",
    "\n",
    "\n",
    "\n",
    "3. **Optional** Try to create a function that will do reverse operation - from integer to roman\n",
    "\n",
    "    ```python\n",
    "    def int_to_roman(s: str) -> int:\n",
    "        # write your code here\n",
    "\n",
    "    def test_int_to_roman():\n",
    "        result1 = int_to_roman(3)\n",
    "        assert result1 == \"III\"\n",
    "\n",
    "        result1 = int_to_roman(58)\n",
    "        assert result1 == \"LVIII\"\n",
    "\n",
    "        result1 = int_to_roman(1994)\n",
    "        assert result1 == \"MCMXCIV\"\n",
    "    ```\n"
   ]
  },
  {
   "attachments": {},
   "cell_type": "markdown",
   "metadata": {},
   "source": [
    "4. Given an array nums of size n, return the majority element.\n",
    "\n",
    "    The majority element is the element that appears more than any other element. You may assume that the majority element always exists in the array.\n",
    "\n",
    "        Example 1:\n",
    "\n",
    "        Input: nums = [3,2,3]\n",
    "        Output: 3\n",
    "\n",
    "        Example 2:\n",
    "\n",
    "        Input: nums = [2,2,1,1,1,2,2]\n",
    "        Output: 2\n",
    "\n",
    "    ```python\n",
    "    def majority_element(nums: list) -> int:\n",
    "        # write your code here\n",
    "\n",
    "    def test_majority_element():\n",
    "        result1 = majority_element([3, 2, 3])\n",
    "        assert result1 == 3\n",
    "\n",
    "        result1 = majority_element([2, 2, 1, 1, 1, 2, 2])\n",
    "        assert result1 == 2\n",
    "    ```\n"
   ]
  },
  {
   "attachments": {},
   "cell_type": "markdown",
   "metadata": {},
   "source": [
    "# Material\n",
    "\n",
    "## Dict \n",
    "1. [Dict basic](https://realpython.com/python-dicts/)\n",
    "2. [How dicts work under the hood](https://realpython.com/python-hash-table/)"
   ]
  }
 ],
 "metadata": {
  "kernelspec": {
   "display_name": "Python 3.9.13 64-bit",
   "language": "python",
   "name": "python3"
  },
  "language_info": {
   "codemirror_mode": {
    "name": "ipython",
    "version": 3
   },
   "file_extension": ".py",
   "mimetype": "text/x-python",
   "name": "python",
   "nbconvert_exporter": "python",
   "pygments_lexer": "ipython3",
   "version": "3.11.4"
  },
  "orig_nbformat": 4,
  "vscode": {
   "interpreter": {
    "hash": "397704579725e15f5c7cb49fe5f0341eb7531c82d19f2c29d197e8b64ab5776b"
   }
  }
 },
 "nbformat": 4,
 "nbformat_minor": 2
}
