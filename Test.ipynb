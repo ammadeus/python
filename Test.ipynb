{
 "cells": [
  {
   "cell_type": "code",
   "execution_count": 6,
   "metadata": {},
   "outputs": [
    {
     "name": "stdout",
     "output_type": "stream",
     "text": [
      "<class 'int'>\n"
     ]
    }
   ],
   "source": [
    "x = 32\n",
    "print(type(x)) \n",
    "\n",
    "\n"
   ]
  },
  {
   "cell_type": "code",
   "execution_count": 8,
   "metadata": {},
   "outputs": [
    {
     "name": "stdout",
     "output_type": "stream",
     "text": [
      "<class 'float'>\n"
     ]
    }
   ],
   "source": [
    "y = 2.23\n",
    "print(type(y))"
   ]
  },
  {
   "cell_type": "code",
   "execution_count": 9,
   "metadata": {},
   "outputs": [
    {
     "name": "stdout",
     "output_type": "stream",
     "text": [
      "<class 'str'>\n"
     ]
    }
   ],
   "source": [
    "testo = \"come stai\"\n",
    "print(type(testo))"
   ]
  },
  {
   "cell_type": "code",
   "execution_count": 11,
   "metadata": {},
   "outputs": [
    {
     "name": "stdout",
     "output_type": "stream",
     "text": [
      "<class 'bool'>\n"
     ]
    }
   ],
   "source": [
    "bul= True\n",
    "print(type(bul))"
   ]
  },
  {
   "cell_type": "code",
   "execution_count": 12,
   "metadata": {},
   "outputs": [
    {
     "name": "stdout",
     "output_type": "stream",
     "text": [
      "<class 'list'>\n"
     ]
    }
   ],
   "source": [
    "z = [1, 23, 23, 2, 4]\n",
    "print(type(z))"
   ]
  },
  {
   "cell_type": "code",
   "execution_count": 13,
   "metadata": {},
   "outputs": [
    {
     "name": "stdout",
     "output_type": "stream",
     "text": [
      "<class 'list'>\n"
     ]
    }
   ],
   "source": [
    "z_z = [2, 23.2, \"qwerty\", True]\n",
    "print(type(z_z))"
   ]
  },
  {
   "cell_type": "code",
   "execution_count": 14,
   "metadata": {},
   "outputs": [
    {
     "name": "stdout",
     "output_type": "stream",
     "text": [
      "<class 'tuple'>\n"
     ]
    }
   ],
   "source": [
    "settimana = (\"lunedi\", \"martedi\", \"mercolesdi\")\n",
    "print(type(settimana))"
   ]
  },
  {
   "cell_type": "code",
   "execution_count": 17,
   "metadata": {},
   "outputs": [
    {
     "name": "stdout",
     "output_type": "stream",
     "text": [
      "<class 'set'>\n",
      "{'Sumyk', '36', 'Torriana', 'Ihor'}\n"
     ]
    }
   ],
   "source": [
    "informazioni_personali = {\"Ihor\", \"Sumyk\", \"36\", \"Torriana\"}\n",
    "print(type(informazioni_personali))\n",
    "print(informazioni_personali)"
   ]
  },
  {
   "cell_type": "code",
   "execution_count": 18,
   "metadata": {},
   "outputs": [
    {
     "name": "stdout",
     "output_type": "stream",
     "text": [
      "8\n"
     ]
    }
   ],
   "source": [
    "numero1 = 3\n",
    "numero2 = 5\n",
    "somma = numero1 + numero2\n",
    "print(somma)"
   ]
  },
  {
   "cell_type": "code",
   "execution_count": 19,
   "metadata": {},
   "outputs": [
    {
     "name": "stdout",
     "output_type": "stream",
     "text": [
      "11\n"
     ]
    }
   ],
   "source": [
    "q = 34\n",
    "w = 23\n",
    "sotrazione = q - w\n",
    "print(sotrazione)"
   ]
  },
  {
   "cell_type": "code",
   "execution_count": 20,
   "metadata": {},
   "outputs": [
    {
     "name": "stdout",
     "output_type": "stream",
     "text": [
      "782\n"
     ]
    }
   ],
   "source": [
    "moltiplicazione = q * w\n",
    "print(moltiplicazione)"
   ]
  },
  {
   "cell_type": "code",
   "execution_count": 21,
   "metadata": {},
   "outputs": [
    {
     "name": "stdout",
     "output_type": "stream",
     "text": [
      "0.6764705882352942\n"
     ]
    }
   ],
   "source": [
    "divisione = w / q\n",
    "print(divisione)"
   ]
  },
  {
   "cell_type": "code",
   "execution_count": 22,
   "metadata": {},
   "outputs": [
    {
     "name": "stdout",
     "output_type": "stream",
     "text": [
      "11\n"
     ]
    }
   ],
   "source": [
    "modulo  = q % w\n",
    "print(modulo)"
   ]
  },
  {
   "cell_type": "code",
   "execution_count": 23,
   "metadata": {},
   "outputs": [
    {
     "name": "stdout",
     "output_type": "stream",
     "text": [
      "35 20\n"
     ]
    }
   ],
   "source": [
    "som_1 = q + 1\n",
    "decrem_2 = w - 3\n",
    "print(som_1 , decrem_2)"
   ]
  },
  {
   "cell_type": "code",
   "execution_count": 25,
   "metadata": {},
   "outputs": [
    {
     "name": "stdout",
     "output_type": "stream",
     "text": [
      "1690\n"
     ]
    }
   ],
   "source": [
    "big_somma = (q**2 + 5) + w ** 2\n",
    "print(big_somma)"
   ]
  },
  {
   "cell_type": "code",
   "execution_count": 26,
   "metadata": {},
   "outputs": [
    {
     "name": "stdout",
     "output_type": "stream",
     "text": [
      "CIAO MONDO\n"
     ]
    }
   ],
   "source": [
    "stringa = \"ciao mondo\"\n",
    "up_stringa = stringa.upper()\n",
    "print(up_stringa)"
   ]
  },
  {
   "cell_type": "code",
   "execution_count": 27,
   "metadata": {},
   "outputs": [
    {
     "name": "stdout",
     "output_type": "stream",
     "text": [
      "benvenuti a roma\n"
     ]
    }
   ],
   "source": [
    "stringa1 = \"Benvenuti a Roma\"\n",
    "low_stringa = stringa1.lower()\n",
    "print(low_stringa)"
   ]
  },
  {
   "cell_type": "code",
   "execution_count": 28,
   "metadata": {},
   "outputs": [
    {
     "name": "stdout",
     "output_type": "stream",
     "text": [
      "['Il', 'meglio', 'deve', 'ancora', 'venire']\n"
     ]
    }
   ],
   "source": [
    "stringa = \"Il meglio deve ancora venire\"\n",
    "spl_stringa = stringa.split()\n",
    "print(spl_stringa)"
   ]
  },
  {
   "cell_type": "code",
   "execution_count": 30,
   "metadata": {},
   "outputs": [
    {
     "name": "stdout",
     "output_type": "stream",
     "text": [
      "hello python\n"
     ]
    }
   ],
   "source": [
    "stringa2 = \"hello world\"\n",
    "rep_stringa = stringa2.replace(\"world\", \"python\")\n",
    "print(rep_stringa)"
   ]
  },
  {
   "cell_type": "code",
   "execution_count": 32,
   "metadata": {},
   "outputs": [
    {
     "name": "stdout",
     "output_type": "stream",
     "text": [
      "ciao\n"
     ]
    }
   ],
   "source": [
    "stringa3 = \" ciao \"\n",
    "new_stringa3 = stringa3.strip()\n",
    "print(new_stringa3)"
   ]
  },
  {
   "cell_type": "code",
   "execution_count": 34,
   "metadata": {},
   "outputs": [
    {
     "name": "stdout",
     "output_type": "stream",
     "text": [
      "abc\n"
     ]
    }
   ],
   "source": [
    "stringa = \"abcdefgh\"\n",
    "tre_caratteri = stringa[:3]\n",
    "print(tre_caratteri)"
   ]
  },
  {
   "cell_type": "code",
   "execution_count": 35,
   "metadata": {},
   "outputs": [
    {
     "name": "stdout",
     "output_type": "stream",
     "text": [
      "False\n"
     ]
    }
   ],
   "source": [
    "srtinga = \"Python\"\n",
    "start_stringa = stringa.startswith(\"Py\")\n",
    "print(start_stringa)\n"
   ]
  },
  {
   "cell_type": "code",
   "execution_count": 36,
   "metadata": {},
   "outputs": [
    {
     "name": "stdout",
     "output_type": "stream",
     "text": [
      "3\n"
     ]
    }
   ],
   "source": [
    "stringa4 = \"ciao mondo\"\n",
    "new_stringa4 = stringa4.count(\"o\")\n",
    "print(new_stringa4)"
   ]
  },
  {
   "cell_type": "code",
   "execution_count": 37,
   "metadata": {},
   "outputs": [
    {
     "name": "stdout",
     "output_type": "stream",
     "text": [
      "Il numero è positivo\n"
     ]
    }
   ],
   "source": [
    "x = 3\n",
    "if x > 0:\n",
    "    print(\"Il numero è positivo\")\n",
    "else: \n",
    "    print(\"Il numero è negativo\")"
   ]
  },
  {
   "cell_type": "code",
   "execution_count": 38,
   "metadata": {},
   "outputs": [
    {
     "name": "stdout",
     "output_type": "stream",
     "text": [
      "y magiore\n"
     ]
    }
   ],
   "source": [
    "x = int(input(\"inserire : \"))\n",
    "y = int(input(\"inserire : \"))\n",
    "\n",
    "if x > y:\n",
    "    print(\"x magiore\")\n",
    "elif x < y:\n",
    "    print(\"y magiore\")\n",
    "else:\n",
    "    print(\"sono uguali\")"
   ]
  },
  {
   "cell_type": "code",
   "execution_count": 40,
   "metadata": {},
   "outputs": [
    {
     "name": "stdout",
     "output_type": "stream",
     "text": [
      "grazie\n"
     ]
    }
   ],
   "source": [
    "stringa5 = str(input(\"Inserire\"))\n",
    "if not stringa5:\n",
    "    print(\"vuoto\")\n",
    "else:\n",
    "    print(\"grazie\")"
   ]
  },
  {
   "cell_type": "code",
   "execution_count": 45,
   "metadata": {},
   "outputs": [
    {
     "name": "stdout",
     "output_type": "stream",
     "text": [
      "dispari\n"
     ]
    }
   ],
   "source": [
    "e = int(input(\"inserire : \"))\n",
    "if e %  2 == 0:\n",
    "    print(\"pari\")\n",
    "else:\n",
    "    print(\"dispari\")"
   ]
  },
  {
   "cell_type": "code",
   "execution_count": 49,
   "metadata": {},
   "outputs": [
    {
     "name": "stdout",
     "output_type": "stream",
     "text": [
      "vocale\n"
     ]
    }
   ],
   "source": [
    "stringa6 = str(input(\"Inserire\"))\n",
    "if stringa6 in \"aeiuoAEIUO\":\n",
    "    print(\"vocale\")\n",
    "else:\n",
    "    print(\"non e una vocale\")"
   ]
  },
  {
   "cell_type": "code",
   "execution_count": 53,
   "metadata": {},
   "outputs": [
    {
     "name": "stdout",
     "output_type": "stream",
     "text": [
      "compreso tra 1 e 10\n"
     ]
    }
   ],
   "source": [
    "r = int(input(\"inserire : \"))\n",
    "if 1 <= r <= 10:\n",
    "    print(\"compreso tra 1 e 10\")\n",
    "else :\n",
    "    print(\" altri numeri\")"
   ]
  },
  {
   "cell_type": "code",
   "execution_count": null,
   "metadata": {},
   "outputs": [],
   "source": [
    "anna SUMYK IGOR MARICKA YULIYA BEN COMANDINI TORRIANA \n",
    "IL MIO GIOCO PREFERITO SONO LE VALIGGE COLORATE\n",
    "IL MIO GIOCO PREFERITO E LA BICICLETTA \n",
    "IL GIOCO PREFERITO DELLA ZIA CICIOBELLO\n",
    "IL GIOCO PREFERITO DELLA MAMM E LA CACCOLA DI __annotations__"
   ]
  },
  {
   "cell_type": "code",
   "execution_count": 57,
   "metadata": {},
   "outputs": [
    {
     "name": "stdout",
     "output_type": "stream",
     "text": [
      "Euna vocale\n"
     ]
    }
   ],
   "source": [
    "t = str(input(\"Inserire ilcharattere : \"))\n",
    "if t in \"aeiuoAEIUO\":\n",
    "    print(\"E una vocale\")\n",
    "elif t.isalpha():\n",
    "    print(\"E una consonante\")\n",
    "else:\n",
    "    print(\"non e lettera\")\n",
    "\n"
   ]
  },
  {
   "cell_type": "code",
   "execution_count": 61,
   "metadata": {},
   "outputs": [
    {
     "name": "stdout",
     "output_type": "stream",
     "text": [
      "triangolo rettangolo\n"
     ]
    }
   ],
   "source": [
    "a = int(input(\"inserire : \"))\n",
    "b = int(input(\"inserire : \"))\n",
    "c = int(input(\"inserire : \"))\n",
    "if a==b and b!=c or b==c!=a or a==c!=b:\n",
    "    print ((\"triangolo rettangolo\"))\n",
    "else:\n",
    "    print(\"non e\")"
   ]
  },
  {
   "cell_type": "code",
   "execution_count": 63,
   "metadata": {},
   "outputs": [
    {
     "name": "stdout",
     "output_type": "stream",
     "text": [
      "Sumyk ihor\n"
     ]
    }
   ],
   "source": [
    "s = \"Sumyk\"\n",
    "i = \"ihor\"\n",
    "si = \"Sumyk \" + \"ihor\"\n",
    "print(si)"
   ]
  },
  {
   "cell_type": "code",
   "execution_count": 65,
   "metadata": {},
   "outputs": [
    {
     "name": "stdout",
     "output_type": "stream",
     "text": [
      "il numero : 42\n"
     ]
    }
   ],
   "source": [
    "n = 42\n",
    "print(\"il numero :\", n)"
   ]
  },
  {
   "cell_type": "code",
   "execution_count": 67,
   "metadata": {},
   "outputs": [
    {
     "name": "stdout",
     "output_type": "stream",
     "text": [
      "0b101010\n"
     ]
    }
   ],
   "source": [
    "num = 42\n",
    "num_mod = bin(num)\n",
    "print(num_mod)"
   ]
  },
  {
   "cell_type": "code",
   "execution_count": 68,
   "metadata": {},
   "outputs": [
    {
     "name": "stdout",
     "output_type": "stream",
     "text": [
      "il quadrato di 5  e 25\n"
     ]
    }
   ],
   "source": [
    "numero = 5\n",
    "print(f\"il quadrato di {numero}  e {numero ** 2}\" )"
   ]
  },
  {
   "cell_type": "code",
   "execution_count": 71,
   "metadata": {},
   "outputs": [
    {
     "name": "stdout",
     "output_type": "stream",
     "text": [
      "Il mio nome è igor ed il cognome è sumyk\n"
     ]
    }
   ],
   "source": [
    "nome = \"igor\"\n",
    "cognome = \"sumyk\"\n",
    "nc1 = \n",
    "nc =  \"Il mio nome è {nome} ed il cognome è {cognome}\".format(nome=nome, cognome=cognome)\n",
    "print(nc)"
   ]
  },
  {
   "cell_type": "code",
   "execution_count": null,
   "metadata": {},
   "outputs": [],
   "source": []
  }
 ],
 "metadata": {
  "interpreter": {
   "hash": "3067ead486e059ec00ffe7555bdb889e6e264a24dc711bf108106cc7baee8d5d"
  },
  "kernelspec": {
   "display_name": "Python 3.7.3 ('base')",
   "language": "python",
   "name": "python3"
  },
  "language_info": {
   "name": "python",
   "version": "3.11.4"
  },
  "orig_nbformat": 4
 },
 "nbformat": 4,
 "nbformat_minor": 2
}
