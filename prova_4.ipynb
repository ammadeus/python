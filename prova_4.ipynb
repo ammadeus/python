{
 "cells": [
  {
   "cell_type": "code",
   "execution_count": 14,
   "metadata": {},
   "outputs": [
    {
     "data": {
      "text/plain": [
       "True"
      ]
     },
     "execution_count": 14,
     "metadata": {},
     "output_type": "execute_result"
    }
   ],
   "source": [
    "bool(\"False == (not True)\")\n",
    "\n",
    "\n",
    "\n",
    "\n"
   ]
  },
  {
   "cell_type": "code",
   "execution_count": 18,
   "metadata": {},
   "outputs": [
    {
     "data": {
      "text/plain": [
       "True"
      ]
     },
     "execution_count": 18,
     "metadata": {},
     "output_type": "execute_result"
    }
   ],
   "source": [
    "bool(\"(True and False) == (True and False)\") "
   ]
  },
  {
   "cell_type": "code",
   "execution_count": 17,
   "metadata": {},
   "outputs": [
    {
     "data": {
      "text/plain": [
       "True"
      ]
     },
     "execution_count": 17,
     "metadata": {},
     "output_type": "execute_result"
    }
   ],
   "source": [
    "bool('(not True) and \"A\" == \"B\"')"
   ]
  },
  {
   "cell_type": "code",
   "execution_count": 6,
   "metadata": {},
   "outputs": [
    {
     "name": "stdout",
     "output_type": "stream",
     "text": [
      "Wheat weight in tones is 1199038364791120.8\n"
     ]
    }
   ],
   "source": [
    "weight_wheat = 0.000065 \n",
    "chessbord_amount = (2 ** 64 - 1)\n",
    "weight_amount = weight_wheat * chessbord_amount\n",
    "print(\"Wheat weight in tones is \" + str(weight_amount))"
   ]
  },
  {
   "cell_type": "code",
   "execution_count": 21,
   "metadata": {},
   "outputs": [
    {
     "name": "stdout",
     "output_type": "stream",
     "text": [
      "This is scalene triangle.\n"
     ]
    }
   ],
   "source": [
    "side_a = float(input(\"Enter side A leight :  \"))\n",
    "side_b = float(input(\"Enter side B leight :  \"))\n",
    "side_c = float(input(\"Enter side C leight :  \"))\n",
    "\n",
    "if side_a == side_b and side_b== side_c:\n",
    "    print(\"This is equilateral triangle.\")\n",
    "elif side_a != side_b and side_b != side_c and side_a != side_c: \n",
    "    print(\"This is scalene triangle.\")\n",
    "else:\n",
    "    print(\"This is isosceles triangle.\")   "
   ]
  },
  {
   "cell_type": "code",
   "execution_count": 9,
   "metadata": {},
   "outputs": [
    {
     "name": "stdout",
     "output_type": "stream",
     "text": [
      "The factors of 23 are: \n",
      "1 23 "
     ]
    }
   ],
   "source": [
    "number = int(input(\"Enter positive number :  \"))\n",
    "if number > 0:\n",
    "    print(\"The factors of\" , number , \"are: \")\n",
    "    i = 1\n",
    "    while (i <= number):\n",
    "        if(number % i == 0):\n",
    "            print(i, end = \" \")\n",
    "        i = i + 1\n",
    "else:\n",
    "    print(\"Your numer is not positve.\")"
   ]
  },
  {
   "cell_type": "code",
   "execution_count": 18,
   "metadata": {},
   "outputs": [
    {
     "name": "stdout",
     "output_type": "stream",
     "text": [
      "Your numer is not positve.\n"
     ]
    }
   ],
   "source": [
    "number = int(input(\"Enter positive number :  \"))\n",
    "if number > 0:\n",
    "    print(\"The factors of\" , number , \"are: \")\n",
    "    i = 1\n",
    "    while (i <= number):\n",
    "        if(number % i == 0):\n",
    "            print(i, end = \" \")\n",
    "        i = i + 1\n",
    "else:\n",
    "    print(\"Your numer is not positve.\")"
   ]
  },
  {
   "cell_type": "code",
   "execution_count": 12,
   "metadata": {},
   "outputs": [
    {
     "ename": "ValueError",
     "evalue": "invalid literal for int() with base 10: ''",
     "output_type": "error",
     "traceback": [
      "\u001b[1;31m---------------------------------------------------------------------------\u001b[0m",
      "\u001b[1;31mValueError\u001b[0m                                Traceback (most recent call last)",
      "Cell \u001b[1;32mIn[12], line 4\u001b[0m\n\u001b[0;32m      1\u001b[0m \u001b[39m# Python program to find factors of a number\u001b[39;00m\n\u001b[0;32m      2\u001b[0m \n\u001b[0;32m      3\u001b[0m \u001b[39m# take inputs\u001b[39;00m\n\u001b[1;32m----> 4\u001b[0m num \u001b[39m=\u001b[39m \u001b[39mint\u001b[39;49m(\u001b[39minput\u001b[39;49m(\u001b[39m'\u001b[39;49m\u001b[39mEnter number: \u001b[39;49m\u001b[39m'\u001b[39;49m))\n\u001b[0;32m      6\u001b[0m \u001b[39m# find factor of number\u001b[39;00m\n\u001b[0;32m      7\u001b[0m \u001b[39mprint\u001b[39m(\u001b[39m'\u001b[39m\u001b[39mThe factors of\u001b[39m\u001b[39m'\u001b[39m, num, \u001b[39m'\u001b[39m\u001b[39mare:\u001b[39m\u001b[39m'\u001b[39m)\n",
      "\u001b[1;31mValueError\u001b[0m: invalid literal for int() with base 10: ''"
     ]
    }
   ],
   "source": [
    "\n"
   ]
  },
  {
   "cell_type": "code",
   "execution_count": 21,
   "metadata": {},
   "outputs": [
    {
     "name": "stdout",
     "output_type": "stream",
     "text": [
      "Palindrome\n"
     ]
    }
   ],
   "source": [
    "string = input(\"Enter string :\")\n",
    "reverse_string = string[::-1]\n",
    "string == reverse_string\n",
    "print( \"Palindrome\" )"
   ]
  },
  {
   "cell_type": "code",
   "execution_count": 22,
   "metadata": {},
   "outputs": [
    {
     "name": "stdout",
     "output_type": "stream",
     "text": [
      "True\n",
      "True\n",
      "True\n"
     ]
    }
   ],
   "source": [
    "print(3 < 4)\n",
    "print(10 > 5)\n",
    "print(42 != \"42\")"
   ]
  },
  {
   "cell_type": "code",
   "execution_count": 24,
   "metadata": {},
   "outputs": [
    {
     "name": "stdout",
     "output_type": "stream",
     "text": [
      "La stringa '{stringa}' è un palindromo: {is_palindromo}\n"
     ]
    }
   ],
   "source": [
    "stringa = input(\"Inserisci una stringa: \")\n",
    "stringa_invertita = stringa[::-1]\n",
    "is_palindromo = stringa == stringa_invertita\n",
    "print(\"La stringa '{stringa}' è un palindromo: {is_palindromo}\")"
   ]
  },
  {
   "cell_type": "code",
   "execution_count": 25,
   "metadata": {},
   "outputs": [
    {
     "name": "stdout",
     "output_type": "stream",
     "text": [
      "La parola wer è non un palindromo.\n"
     ]
    }
   ],
   "source": [
    "parola = input(\"Inserisci una parola: \")\n",
    "\n",
    "parola_invertita = parola[::-1]\n",
    "\n",
    "risultato = \"un palindromo\" * (parola == parola_invertita) or \"non un palindromo\"\n",
    "\n",
    "print(\"La parola\", parola, \"è\", risultato + \".\")"
   ]
  },
  {
   "cell_type": "code",
   "execution_count": 28,
   "metadata": {},
   "outputs": [
    {
     "name": "stdout",
     "output_type": "stream",
     "text": [
      "Tne word qwe is not palindrome.\n"
     ]
    }
   ],
   "source": [
    "string = input(\"Enter word :\")\n",
    "reverse_string = string[::-1] \n",
    "result = \"palindrme\" * (string == reverse_string) or \"not palindrome\"\n",
    "print(\"Tne word\", string, \"is\", result + \".\")\n",
    "\n"
   ]
  },
  {
   "cell_type": "code",
   "execution_count": 70,
   "metadata": {},
   "outputs": [
    {
     "name": "stdout",
     "output_type": "stream",
     "text": [
      "7\n",
      "11\n",
      "13\n",
      "17\n",
      "19\n",
      "23\n",
      "29\n",
      "31\n",
      "37\n",
      "41\n",
      "43\n",
      "47\n",
      "53\n",
      "59\n",
      "61\n",
      "67\n",
      "71\n",
      "73\n",
      "79\n",
      "83\n",
      "89\n",
      "97\n",
      "101\n",
      "103\n",
      "107\n",
      "109\n",
      "113\n",
      "127\n",
      "131\n",
      "137\n",
      "139\n",
      "149\n",
      "151\n"
     ]
    }
   ],
   "source": [
    "a = 7\n",
    "b = 156\n",
    "\n",
    "def find_primes(a :int, b :int):\n",
    "    return(find_primes)\n",
    "    \n",
    " \n",
    "for num in range(a, b + 1):\n",
    "        if num > 1:\n",
    "            for i in range(2, num):\n",
    "                if (num % i) == 0:\n",
    "                    break  \n",
    "            else:\n",
    "                print( num) \n",
    "          "
   ]
  },
  {
   "cell_type": "code",
   "execution_count": 29,
   "metadata": {},
   "outputs": [
    {
     "name": "stdout",
     "output_type": "stream",
     "text": [
      "[11, 13, 17, 19, 23, 29, 31, 37, 41, 43, 47]\n"
     ]
    }
   ],
   "source": [
    "def find_primes(a, b):\n",
    "    primes = []\n",
    "\n",
    "    for num in range(a, b + 1):\n",
    "        if num > 1:\n",
    "            is_prime = True\n",
    "            for i in range(2, int(num ** 0.5) + 1):\n",
    "                if num % i == 0:\n",
    "                    is_prime = False\n",
    "                    break\n",
    "            if is_prime:\n",
    "                primes.append(num)\n",
    "\n",
    "    return primes\n",
    "\n",
    "primes_list = find_primes(10, 50)\n",
    "print(primes_list)\n"
   ]
  },
  {
   "cell_type": "code",
   "execution_count": 53,
   "metadata": {},
   "outputs": [
    {
     "name": "stdout",
     "output_type": "stream",
     "text": [
      "Prime numbers between 900 and 1000 are:\n",
      "907\n",
      "911\n",
      "919\n",
      "929\n",
      "937\n",
      "941\n",
      "947\n",
      "953\n",
      "967\n",
      "971\n",
      "977\n",
      "983\n",
      "991\n",
      "997\n"
     ]
    }
   ],
   "source": [
    "# Python program to display all the prime numbers within an interval\n",
    "\n",
    "lower = 900\n",
    "upper = 1000\n",
    "\n",
    "print(\"Prime numbers between\", lower, \"and\", upper, \"are:\")\n",
    "\n",
    "for num in range(lower, upper + 1):\n",
    "   # all prime numbers are greater than 1\n",
    "   if num > 1:\n",
    "       for i in range(2, num):\n",
    "           if (num % i) == 0:\n",
    "               break\n",
    "       else:\n",
    "           print(num)"
   ]
  },
  {
   "cell_type": "code",
   "execution_count": 88,
   "metadata": {},
   "outputs": [],
   "source": [
    "\n",
    "\n",
    "def unique_characters(string: str , turn: bool):\n",
    "    unique_characters(string)\n",
    "    return unique_characters\n",
    "    string = \"asdgahadaj\"\n",
    "    \n",
    "    for i in range(0, len(string)):\n",
    "        if i.ord():\n",
    "            print(\"Characters are unique\")\n",
    "        else:\n",
    "            print(\"Characters are not unique\")"
   ]
  },
  {
   "attachments": {},
   "cell_type": "markdown",
   "metadata": {},
   "source": [
    "def unique_characters(string: str):\n",
    "    unique_chars = set(string)\n",
    "    return len(unique_chars) == len(string)\n",
    "\n",
    "string = \"asdgahadaj\"\n",
    "\n",
    "if unique_characters(string):\n",
    "    print(\"I caratteri sono unici\")\n",
    "else:\n",
    "    print(\"I caratteri non sono unici\")"
   ]
  },
  {
   "cell_type": "code",
   "execution_count": 95,
   "metadata": {},
   "outputs": [
    {
     "name": "stdout",
     "output_type": "stream",
     "text": [
      "Characters are unique\n"
     ]
    }
   ],
   "source": [
    "def unique_characters(string: str):\n",
    "    unique_chars = set(string)\n",
    "    return len(unique_chars) == len(string)\n",
    "\n",
    "string = str(input(\"Press :\"))\n",
    "\n",
    "if unique_characters(string):\n",
    "    print(\"Characters are unique.\")\n",
    "else:\n",
    "    print(\"Characters are not unique.\")"
   ]
  },
  {
   "cell_type": "code",
   "execution_count": 97,
   "metadata": {},
   "outputs": [
    {
     "name": "stdout",
     "output_type": "stream",
     "text": [
      "0\n",
      "1\n",
      "1\n",
      "2\n",
      "3\n",
      "5\n",
      "8\n",
      "13\n",
      "21\n",
      "34\n",
      "55\n",
      "89\n",
      "144\n",
      "233\n",
      "377\n"
     ]
    }
   ],
   "source": [
    "def fibonacci(n: int):\n",
    "  if n in {0, 1}:\n",
    "      return n\n",
    "  return fibonacci(n - 1) + fibonacci(n - 2)\n",
    "x = int(input(\"Enter Fibonacci sequence: \"))\n",
    "for n in range(15):\n",
    "    result = fibonacci(n)\n",
    "    print(result)\n"
   ]
  },
  {
   "cell_type": "code",
   "execution_count": 103,
   "metadata": {},
   "outputs": [],
   "source": [
    "def compound_interest(initial_amount, interest_rate, years)\n"
   ]
  },
  {
   "cell_type": "code",
   "execution_count": 106,
   "metadata": {},
   "outputs": [
    {
     "name": "stdout",
     "output_type": "stream",
     "text": [
      "10\n",
      "12\n",
      "14\n",
      "16\n",
      "18\n"
     ]
    }
   ],
   "source": [
    "for i in range(10, 20, 2):\n",
    "    print(i)"
   ]
  },
  {
   "cell_type": "code",
   "execution_count": 112,
   "metadata": {},
   "outputs": [
    {
     "name": "stdout",
     "output_type": "stream",
     "text": [
      "Total amount after 3 years: 297.0\n"
     ]
    }
   ],
   "source": [
    "def calculate_deposit_performance(initial_amount, interest_rate, years):\n",
    "    total_amount = initial_amount\n",
    "    for _ in range(years):\n",
    "        interest = total_amount * interest_rate\n",
    "        total_amount = total_amount + interest\n",
    "    return total_amount\n",
    "\n",
    "initial_amount = int(input(\"Enter initial amount : \"))\n",
    "interest_rate = float(input(\"Enter your interest rate : \"))\n",
    "years = int(input(\"Indicate for hove many years you live your amount : \"))\n",
    "\n",
    "performance = calculate_deposit_performance(initial_amount, interest_rate, years)\n",
    "print(\"Total amount after\", years, \"years:\", performance)\n"
   ]
  },
  {
   "cell_type": "code",
   "execution_count": 114,
   "metadata": {},
   "outputs": [
    {
     "name": "stdout",
     "output_type": "stream",
     "text": [
      "QWEEQqqqq\n"
     ]
    }
   ],
   "source": [
    "string = str(input(\"Enter your string : \"))\n",
    "new_string = str()\n",
    "\n",
    "for i in string:\n",
    "    if i.isupper():\n",
    "        i = i.lower()\n",
    "        new_string += i\n",
    "    else:\n",
    "        i = i.upper()\n",
    "        new_string += i\n",
    "\n",
    "print(new_string)"
   ]
  },
  {
   "cell_type": "code",
   "execution_count": null,
   "metadata": {},
   "outputs": [],
   "source": []
  }
 ],
 "metadata": {
  "kernelspec": {
   "display_name": "Python 3",
   "language": "python",
   "name": "python3"
  },
  "language_info": {
   "codemirror_mode": {
    "name": "ipython",
    "version": 3
   },
   "file_extension": ".py",
   "mimetype": "text/x-python",
   "name": "python",
   "nbconvert_exporter": "python",
   "pygments_lexer": "ipython3",
   "version": "3.11.4"
  },
  "orig_nbformat": 4
 },
 "nbformat": 4,
 "nbformat_minor": 2
}
