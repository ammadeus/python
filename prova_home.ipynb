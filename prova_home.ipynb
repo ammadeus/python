{
 "cells": [
  {
   "cell_type": "code",
   "execution_count": 13,
   "metadata": {},
   "outputs": [
    {
     "name": "stdout",
     "output_type": "stream",
     "text": [
      "The new balance is: 1200\n"
     ]
    }
   ],
   "source": [
    "# homework rifato\n",
    "\n",
    "\n",
    "balance = 1000\n",
    "\n",
    "def transaction(amount, _type):\n",
    "    local_balance = balance \n",
    "\n",
    "    def deposit(amount, local_balance):\n",
    "        local_balance += amount\n",
    "        print(\"The new balance is:\", local_balance)\n",
    "        return local_balance\n",
    "\n",
    "    def withdrawal(amount, local_balance):\n",
    "        local_balance -= amount\n",
    "        print(\"The new balance is:\", local_balance)\n",
    "        return local_balance\n",
    "\n",
    "    if _type == \"deposit\":\n",
    "        local_balance = deposit(amount, local_balance)\n",
    "    elif _type == \"withdrawal\":\n",
    "        local_balance = withdrawal(amount, local_balance)\n",
    "\n",
    "    return local_balance\n",
    "\n",
    "balance = transaction(200, \"deposit\")\n"
   ]
  },
  {
   "cell_type": "code",
   "execution_count": null,
   "metadata": {},
   "outputs": [],
   "source": [
    "import random\n",
    "\n",
    "capitals = {\n",
    "        'Ukraine': 'Kyiv', 'France': 'Paris', 'Germany': 'Berlin',\n",
    "        'Italy': 'Rome', 'USA': 'Washington', 'Canada': 'Ottawa', '\n",
    "        'Switzerland': 'Bern', 'Austria': 'Vienna',\n",
    "        'Belgium': 'Brussels',  'Sweden': 'Stockholm',\n",
    "        'Norway': 'Oslo', 'Denmark': 'Copenhagen',\n",
    "        'Finland': 'Helsinki', 'Poland': 'Warsaw',\n",
    "        'Romania': 'Bucharest', 'Bulgaria': 'Sofia', 'Greece': 'Athens'\n",
    "}\n",
    "\n",
    "score = 0 \n",
    "while True:\n",
    "    for country, capital in capitals.items():\n",
    "        \n",
    "   \n",
    "\n",
    "        \n",
    "    \n",
    "    "
   ]
  },
  {
   "cell_type": "code",
   "execution_count": 21,
   "metadata": {},
   "outputs": [
    {
     "name": "stdout",
     "output_type": "stream",
     "text": [
      "Guess the capital of the Poland or press exit to  to quit the game :\n",
      "You are quit the game. Final score : 0\n"
     ]
    }
   ],
   "source": [
    "#. 1 home work\n",
    "\n",
    "import random\n",
    "\n",
    "capitals = {\n",
    "        'Ukraine': 'Kyiv', 'France': 'Paris', 'Germany': 'Berlin',\n",
    "        'Italy': 'Rome', 'USA': 'Washington', 'Canada': 'Ottawa', \n",
    "        'Switzerland': 'Bern', 'Austria': 'Vienna',\n",
    "        'Belgium': 'Brussels',  'Sweden': 'Stockholm',\n",
    "        'Norway': 'Oslo', 'Denmark': 'Copenhagen',\n",
    "        'Finland': 'Helsinki', 'Poland': 'Warsaw',\n",
    "        'Romania': 'Bucharest', 'Bulgaria': 'Sofia', 'Greece': 'Athens'\n",
    "}\n",
    "\n",
    "score = 0\n",
    "\n",
    "while True:\n",
    "    random_country = random.choice(list(capitals.keys()))\n",
    "    capital = capitals[random_country]\n",
    "\n",
    "    print(f\"Guess the capital of the {random_country} or press exit to  to quit the game :\")\n",
    "    guess = input(str())\n",
    "\n",
    "    if guess.lower() == capital.lower():\n",
    "        score += 1\n",
    "        print(\"You are right!\")\n",
    "    elif guess.lower() == \"exit\":\n",
    "        print(\"You are quit the game. Final score :\", score)\n",
    "        break\n",
    "    else:\n",
    "        print(\"Try again!\")\n",
    "\n",
    "    print(\"Final score:\", score)\n"
   ]
  },
  {
   "cell_type": "code",
   "execution_count": 27,
   "metadata": {},
   "outputs": [
    {
     "data": {
      "text/plain": [
       "2"
      ]
     },
     "execution_count": 27,
     "metadata": {},
     "output_type": "execute_result"
    }
   ],
   "source": [
    "# 2. home_work\n",
    "\n",
    "nums = [2,2,1,1,1,2,2]\n",
    "def majority_element(nums: list) -> int:\n",
    "    occurence = {}\n",
    "    for num in nums:\n",
    "        if num in occurence:\n",
    "            occurence[num] += 1\n",
    "        else: \n",
    "           occurence[num] = 1\n",
    "    majority_element = max(occurence, key=occurence.get)\n",
    "    return majority_element\n",
    "majority_element(nums)      \n"
   ]
  },
  {
   "cell_type": "code",
   "execution_count": 29,
   "metadata": {},
   "outputs": [
    {
     "ename": "IndentationError",
     "evalue": "expected an indented block after function definition on line 1 (3085184525.py, line 5)",
     "output_type": "error",
     "traceback": [
      "\u001b[1;36m  Cell \u001b[1;32mIn[29], line 5\u001b[1;36m\u001b[0m\n\u001b[1;33m    def test_get_subjects_not_passed_by_all_students():\u001b[0m\n\u001b[1;37m    ^\u001b[0m\n\u001b[1;31mIndentationError\u001b[0m\u001b[1;31m:\u001b[0m expected an indented block after function definition on line 1\n"
     ]
    }
   ],
   "source": [
    "def get_subjects_not_passed_by_all_students(student_exams):\n",
    "    \n",
    "\n",
    "\n",
    "def test_get_subjects_not_passed_by_all_students():\n",
    "    exams = [\n",
    "        (\"Alice\", 85, \"Math\"),\n",
    "        (\"Bob\", 59, \"Math\"),\n",
    "        (\"Charlie\", 65, \"Math\"),\n",
    "        (\"Alice\", 90, \"Science\"),\n",
    "        (\"Bob\", 80, \"Science\"),\n",
    "        (\"Charlie\", 32, \"Science\"),\n",
    "        (\"Alice\", 95, \"History\"),\n",
    "        (\"Bob\", 85, \"History\"),\n",
    "        (\"Charlie\", 90, \"History\"),\n",
    "    ]\n",
    "\n",
    "    assert get_subjects_not_passed_by_all_students(exams) == {\"Science\", \"Math\"}"
   ]
  },
  {
   "cell_type": "code",
   "execution_count": 42,
   "metadata": {},
   "outputs": [
    {
     "ename": "IndentationError",
     "evalue": "expected an indented block after function definition on line 14 (2243297108.py, line 15)",
     "output_type": "error",
     "traceback": [
      "\u001b[1;36m  Cell \u001b[1;32mIn[42], line 15\u001b[1;36m\u001b[0m\n\u001b[1;33m    subjects_not_passed = set()\u001b[0m\n\u001b[1;37m    ^\u001b[0m\n\u001b[1;31mIndentationError\u001b[0m\u001b[1;31m:\u001b[0m expected an indented block after function definition on line 14\n"
     ]
    }
   ],
   "source": [
    "\n",
    "    exams = [\n",
    "        (\"Alice\", 85, \"Math\"),\n",
    "        (\"Bob\", 59, \"Math\"),\n",
    "        (\"Charlie\", 65, \"Math\"),\n",
    "        (\"Alice\", 90, \"Science\"),\n",
    "        (\"Bob\", 80, \"Science\"),\n",
    "        (\"Charlie\", 32, \"Science\"),\n",
    "        (\"Alice\", 95, \"History\"),\n",
    "        (\"Bob\", 85, \"History\"),\n",
    "        (\"Charlie\", 90, \"History\"),\n",
    "    ]\n",
    "    \n",
    "\n",
    "def get_subjects_not_passed_by_all_students(student_exams):\n",
    "    subjects_not_passed = set()\n",
    "    subjects_scores = {}\n",
    "\n",
    "    for name, score, subject in student_exams:\n",
    "        if subject in subjects_scores:\n",
    "            if score < subjects_scores[subject]:\n",
    "                subjects_scores[subject] = score\n",
    "        else:\n",
    "            subjects_scores[subject] = score\n",
    "\n",
    "    for name, score, subject in student_exams:\n",
    "        if score < 60 and score == subjects_scores[subject]:\n",
    "            subjects_not_passed.add(subject)\n",
    "\n",
    "    return subjects_not_passed\n",
    "\n",
    "def test_get_subjects_not_passed_by_all_students():\n",
    "    exams = [\n",
    "        (\"Alice\", 85, \"Math\"),\n",
    "        (\"Bob\", 59, \"Math\"),\n",
    "        (\"Charlie\", 65, \"Math\"),\n",
    "        (\"Alice\", 90, \"Science\"),\n",
    "        (\"Bob\", 80, \"Science\"),\n",
    "        (\"Charlie\", 32, \"Science\"),\n",
    "        (\"Alice\", 95, \"History\"),\n",
    "        (\"Bob\", 85, \"History\"),\n",
    "        (\"Charlie\", 90, \"History\"),\n",
    "    ]\n",
    "    \n",
    "    result = get_subjects_not_passed_by_all_students(exams)\n",
    "    print(result)\n",
    "\n",
    "    \n",
    "    assert get_subjects_not_passed_by_all_students(exams) == {\"Science\", \"Math\"}\n",
    "\n"
   ]
  },
  {
   "cell_type": "code",
   "execution_count": 76,
   "metadata": {},
   "outputs": [
    {
     "ename": "IndentationError",
     "evalue": "unexpected indent (2844699568.py, line 16)",
     "output_type": "error",
     "traceback": [
      "\u001b[1;36m  Cell \u001b[1;32mIn[76], line 16\u001b[1;36m\u001b[0m\n\u001b[1;33m    result = get_subjects_not_passed_by_all_students(exams)\u001b[0m\n\u001b[1;37m    ^\u001b[0m\n\u001b[1;31mIndentationError\u001b[0m\u001b[1;31m:\u001b[0m unexpected indent\n"
     ]
    }
   ],
   "source": [
    "# 3. homework\n",
    "\n",
    "\n",
    "d = [\n",
    "        (\"Alice\", 85, \"Math\"),\n",
    "        (\"Bob\", 59, \"Math\"),\n",
    "        (\"Charlie\", 65, \"Math\"),\n",
    "        (\"Alice\", 90, \"Science\"),\n",
    "        (\"Bob\", 80, \"Science\"),\n",
    "        (\"Charlie\", 32, \"Science\"),\n",
    "        (\"Alice\", 95, \"History\"),\n",
    "        (\"Bob\", 85, \"History\"),\n",
    "        (\"Charlie\", 90, \"History\"),\n",
    "    ]\n",
    "    \n",
    "    result = get_subjects_not_passed_by_all_students(exams)\n",
    "    print(result)\n",
    "\n",
    "    \n",
    "    assert get_subjects_not_passed_by_all_students(exams) == {\"Science\", \"Math\"}\n",
    "    \n",
    "    \n",
    "test_get_subjects_not_passed_by_all_students()\n",
    "ef get_subjects_not_passed_by_all_students(student_exams):\n",
    "    subjects_not_passed = set()\n",
    "    subjects_scores = {}\n",
    "\n",
    "    for name, score, subject in student_exams:\n",
    "        if subject in subjects_scores:\n",
    "            if score < subjects_scores[subject]:\n",
    "                subjects_scores[subject] = score\n",
    "        else:\n",
    "            subjects_scores[subject] = score\n",
    "\n",
    "    for name, score, subject in student_exams:\n",
    "        if score < 60 and score == subjects_scores[subject]:\n",
    "            subjects_not_passed.add(subject)\n",
    "\n",
    "    return subjects_not_passed\n",
    "\n",
    "def test_get_subjects_not_passed_by_all_students():exams"
   ]
  },
  {
   "cell_type": "code",
   "execution_count": 54,
   "metadata": {},
   "outputs": [
    {
     "name": "stdout",
     "output_type": "stream",
     "text": [
      "{'Numa': 'Pompilio', 'Tullo': 'Ostilio', 'Anco': 'Marzio'}\n"
     ]
    }
   ],
   "source": [
    "nomi = ('Numa','Tullo','Anco')\n",
    "cognomi = ('Pompilio','Ostilio','Marzio')\n",
    "\n",
    "list_dict = dict(zip(nomi, cognomi))\n",
    "#for nome , cognome in zip(nomi, cognomi):\n",
    "    #list_dict.append({\"nome\": nome, \"cognome\": cognome})\n",
    "print(list_dict)\n",
    "\n"
   ]
  },
  {
   "cell_type": "code",
   "execution_count": 68,
   "metadata": {},
   "outputs": [
    {
     "ename": "ValueError",
     "evalue": "dictionary update sequence element #0 has length 3; 2 is required",
     "output_type": "error",
     "traceback": [
      "\u001b[1;31m---------------------------------------------------------------------------\u001b[0m",
      "\u001b[1;31mValueError\u001b[0m                                Traceback (most recent call last)",
      "Cell \u001b[1;32mIn[68], line 6\u001b[0m\n\u001b[0;32m      4\u001b[0m l \u001b[39m=\u001b[39m \u001b[39mzip\u001b[39m(nomi, cognomi, voti)\n\u001b[0;32m      5\u001b[0m l_1 \u001b[39m=\u001b[39m \u001b[39mlist\u001b[39m(l)\n\u001b[1;32m----> 6\u001b[0m l_2 \u001b[39m=\u001b[39m \u001b[39mdict\u001b[39;49m(l_1)\n\u001b[0;32m      8\u001b[0m \u001b[39mprint\u001b[39m(l_1)\n\u001b[0;32m      9\u001b[0m \u001b[39mprint\u001b[39m(l_2)\n",
      "\u001b[1;31mValueError\u001b[0m: dictionary update sequence element #0 has length 3; 2 is required"
     ]
    }
   ],
   "source": [
    "nomi = ['Numa','Tullo','Anco']\n",
    "cognomi = ['Pompilio','Ostilio','Marzio']\n",
    "voti = [6, 7, 9]\n",
    "l = zip(nomi, cognomi, voti)\n",
    "l_1 = list(l)\n",
    "l_2 = dict(l_1)\n",
    "\n",
    "print(l_1)\n",
    "print(l_2)\n"
   ]
  },
  {
   "cell_type": "code",
   "execution_count": 62,
   "metadata": {},
   "outputs": [
    {
     "name": "stdout",
     "output_type": "stream",
     "text": [
      "[(1, 'a', 99), (2, 'b', 88), (3, 'c', 77), (4, 'd', 66)]\n"
     ]
    }
   ],
   "source": [
    "list_a = [1,2,3,4]\n",
    "list_b = ['a', 'b', 'c', 'd']\n",
    "list_c = [99, 88, 77, 66]\n",
    "\n",
    "zipped = zip(list_a, list_b, list_c)\n",
    "zipped_list = list(zipped)\n",
    "\n",
    "print(zipped_list)"
   ]
  },
  {
   "cell_type": "code",
   "execution_count": 74,
   "metadata": {},
   "outputs": [
    {
     "name": "stdout",
     "output_type": "stream",
     "text": [
      "{'nome': 'pinco', 'cognome': 'palino', 'matricola': 23467, 'materia': 'matematica'}\n"
     ]
    }
   ],
   "source": [
    "d = {\"nome\": \"pinco\", \"cognome\": \"palino\"}\n",
    "d[\"matricola\"] = 23467\n",
    "d[\"materia\"] = \"matematica\"\n",
    "print(d)"
   ]
  },
  {
   "cell_type": "code",
   "execution_count": 75,
   "metadata": {},
   "outputs": [
    {
     "name": "stdout",
     "output_type": "stream",
     "text": [
      "124750\n"
     ]
    }
   ],
   "source": [
    "sum = 0\n",
    "for num in range(0, 500):\n",
    "    sum += num\n",
    "print(sum)"
   ]
  },
  {
   "cell_type": "code",
   "execution_count": 77,
   "metadata": {},
   "outputs": [
    {
     "name": "stdout",
     "output_type": "stream",
     "text": [
      "{'Math', 'Science'}\n"
     ]
    }
   ],
   "source": [
    "def get_subjects_not_passed_by_all_students(student_exams):\n",
    "    subjects_not_passed = set()\n",
    "    subjects_scores = {}\n",
    "\n",
    "    for name, score, subject in student_exams:\n",
    "        if subject in subjects_scores:\n",
    "            if score < subjects_scores[subject]:\n",
    "                subjects_scores[subject] = score\n",
    "        else:\n",
    "            subjects_scores[subject] = score\n",
    "\n",
    "    for name, score, subject in student_exams:\n",
    "        if score < 60 and score == subjects_scores[subject]:\n",
    "            subjects_not_passed.add(subject)\n",
    "\n",
    "    return subjects_not_passed\n",
    "\n",
    "def test_get_subjects_not_passed_by_all_students():\n",
    "    exams = [\n",
    "        (\"Alice\", 85, \"Math\"),\n",
    "        (\"Bob\", 59, \"Math\"),\n",
    "        (\"Charlie\", 65, \"Math\"),\n",
    "        (\"Alice\", 90, \"Science\"),\n",
    "        (\"Bob\", 80, \"Science\"),\n",
    "        (\"Charlie\", 32, \"Science\"),\n",
    "        (\"Alice\", 95, \"History\"),\n",
    "        (\"Bob\", 85, \"History\"),\n",
    "        (\"Charlie\", 90, \"History\"),\n",
    "    ]\n",
    "    \n",
    "    result = get_subjects_not_passed_by_all_students(exams)\n",
    "    print(result)\n",
    "\n",
    "    assert get_subjects_not_passed_by_all_students(exams) == {\"Science\", \"Math\"}\n",
    "\n",
    "test_get_subjects_not_passed_by_all_students()\n"
   ]
  },
  {
   "cell_type": "code",
   "execution_count": 79,
   "metadata": {},
   "outputs": [
    {
     "name": "stdout",
     "output_type": "stream",
     "text": [
      "a\n",
      "b\n"
     ]
    }
   ],
   "source": [
    "stringa = \"abcdefghi\"\n",
    "for letera in enumerate(stringa):\n",
    "    lettera_1 = stringa[0]\n",
    "    lettera_2 = stringa[1]\n",
    "print(lettera_1)\n",
    "print(lettera_2)\n",
    "    \n",
    "        "
   ]
  },
  {
   "cell_type": "code",
   "execution_count": 89,
   "metadata": {},
   "outputs": [
    {
     "name": "stdout",
     "output_type": "stream",
     "text": [
      "exit\n"
     ]
    }
   ],
   "source": [
    "while True:\n",
    "\n",
    "    string = str(input(\"per favore inserisci la stringa:  o metti exit per uscire\"))\n",
    "    if string == \"exit\":\n",
    "        break\n",
    "print(string)\n",
    "     "
   ]
  },
  {
   "cell_type": "code",
   "execution_count": 91,
   "metadata": {},
   "outputs": [
    {
     "name": "stdout",
     "output_type": "stream",
     "text": [
      "1\n",
      "2\n",
      "3\n",
      "4\n",
      "5\n",
      "6\n",
      "7\n"
     ]
    }
   ],
   "source": [
    "n = int(input(\"enter int: \"))\n",
    "for i in range(1, n+1):\n",
    "    print(i)"
   ]
  },
  {
   "cell_type": "code",
   "execution_count": 100,
   "metadata": {},
   "outputs": [
    {
     "ename": "SyntaxError",
     "evalue": "invalid syntax (400971472.py, line 2)",
     "output_type": "error",
     "traceback": [
      "\u001b[1;36m  Cell \u001b[1;32mIn[100], line 2\u001b[1;36m\u001b[0m\n\u001b[1;33m    for i =< n\u001b[0m\n\u001b[1;37m          ^\u001b[0m\n\u001b[1;31mSyntaxError\u001b[0m\u001b[1;31m:\u001b[0m invalid syntax\n"
     ]
    }
   ],
   "source": [
    "n = 20\n",
    "for i =< n\n",
    "    for i in range(n + 1):\n",
    "        print(i, n)\n",
    "        n -= 1\n",
    "    "
   ]
  },
  {
   "cell_type": "code",
   "execution_count": 119,
   "metadata": {},
   "outputs": [
    {
     "name": "stdout",
     "output_type": "stream",
     "text": [
      "[24, 24, 24, 24, 24, 24, 24, 24, 24, 24, 24]\n"
     ]
    }
   ],
   "source": [
    "risultato = []\n",
    "for n in range(0, 100):\n",
    "    if n % 9 == 0 and n != 0:\n",
    "  \n",
    "        risultato.append(i)\n",
    "\n",
    "print(risultato)"
   ]
  },
  {
   "cell_type": "code",
   "execution_count": 115,
   "metadata": {},
   "outputs": [
    {
     "name": "stdout",
     "output_type": "stream",
     "text": [
      "[4, 6, 10, 24]\n"
     ]
    }
   ],
   "source": [
    "l = [1, 3, 4, 5, 6, 9, 10, 17, 23, 24]\n",
    "l_1 = []\n",
    "for i in l:\n",
    "    if i % 2==0:\n",
    "        l_1.append(i)\n",
    "print(l_1)"
   ]
  },
  {
   "cell_type": "code",
   "execution_count": 126,
   "metadata": {},
   "outputs": [
    {
     "name": "stdout",
     "output_type": "stream",
     "text": [
      "['Python', 'è', 'un', 'linguaggio']\n",
      "['Python', 'è', 'un', 'linguaggio']\n",
      "['Python', 'è', 'un', 'linguaggio']\n",
      "['Python', 'è', 'un', 'linguaggio']\n",
      "['Python', 'è', 'un', 'linguaggio']\n",
      "['Python', 'è', 'un', 'linguaggio']\n",
      "['Python', 'è', 'un', 'linguaggio']\n",
      "['Python', 'è', 'un', 'linguaggio']\n",
      "['Python', 'è', 'un', 'linguaggio']\n",
      "['Python', 'è', 'un', 'linguaggio']\n",
      "['Python', 'è', 'un', 'linguaggio']\n",
      "['Python', 'è', 'un', 'linguaggio']\n",
      "['Python', 'è', 'un', 'linguaggio']\n",
      "['Python', 'è', 'un', 'linguaggio']\n",
      "['Python', 'è', 'un', 'linguaggio']\n",
      "['Python', 'è', 'un', 'linguaggio']\n",
      "['Python', 'è', 'un', 'linguaggio']\n",
      "['Python', 'è', 'un', 'linguaggio']\n",
      "['Python', 'è', 'un', 'linguaggio']\n",
      "['Python', 'è', 'un', 'linguaggio']\n",
      "['Python', 'è', 'un', 'linguaggio']\n",
      "['Python', 'è', 'un', 'linguaggio']\n",
      "['Python', 'è', 'un', 'linguaggio']\n",
      "['Python', 'è', 'un', 'linguaggio']\n",
      "['Python', 'è', 'un', 'linguaggio']\n",
      "['Python', 'è', 'un', 'linguaggio']\n",
      "['Python', 'è', 'un', 'linguaggio']\n",
      "['Python', 'è', 'un', 'linguaggio']\n",
      "['Python', 'è', 'un', 'linguaggio']\n",
      "['Python', 'è', 'un', 'linguaggio']\n",
      "['Python', 'è', 'un', 'linguaggio']\n",
      "['Python', 'è', 'un', 'linguaggio']\n",
      "['Python', 'è', 'un', 'linguaggio']\n",
      "['Python', 'è', 'un', 'linguaggio']\n",
      "['Python', 'è', 'un', 'linguaggio']\n",
      "['Python', 'è', 'un', 'linguaggio']\n",
      "['Python', 'è', 'un', 'linguaggio']\n",
      "['Python', 'è', 'un', 'linguaggio']\n",
      "['Python', 'è', 'un', 'linguaggio']\n",
      "['Python', 'è', 'un', 'linguaggio']\n",
      "['Python', 'è', 'un', 'linguaggio']\n",
      "['Python', 'è', 'un', 'linguaggio']\n",
      "['Python', 'è', 'un', 'linguaggio']\n",
      "['Python', 'è', 'un', 'linguaggio']\n",
      "['Python', 'è', 'un', 'linguaggio']\n",
      "['Python', 'è', 'un', 'linguaggio']\n",
      "['Python', 'è', 'un', 'linguaggio']\n",
      "['Python', 'è', 'un', 'linguaggio']\n",
      "['Python', 'è', 'un', 'linguaggio']\n",
      "['Python', 'è', 'un', 'linguaggio']\n",
      "['Python', 'è', 'un', 'linguaggio']\n",
      "['Python', 'è', 'un', 'linguaggio']\n",
      "['Python', 'è', 'un', 'linguaggio']\n",
      "['Python', 'è', 'un', 'linguaggio']\n",
      "['Python', 'è', 'un', 'linguaggio']\n"
     ]
    }
   ],
   "source": [
    "testo = \"Python è un linguaggio di programmazione molto popolare\"\n",
    "for i in enumerate(testo.capitalize()):\n",
    "    testo_1 = testo.split()\n",
    "    testo_1 = testo_1[ :4]\n",
    "    print(testo_1)"
   ]
  },
  {
   "cell_type": "code",
   "execution_count": null,
   "metadata": {},
   "outputs": [],
   "source": []
  },
  {
   "cell_type": "code",
   "execution_count": 129,
   "metadata": {},
   "outputs": [
    {
     "name": "stdout",
     "output_type": "stream",
     "text": [
      "['python', 'è', 'un', 'linguaggio']\n"
     ]
    }
   ],
   "source": [
    "testo = \"Python è un linguaggio di programmazione molto popolare\"\n",
    "\n",
    "testo_min = testo.lower().split()\n",
    "\n",
    "finale = []\n",
    "\n",
    "for i,parola in enumerate(testo_min):\n",
    "   if i < 4:\n",
    "      finale.append(parola)\n",
    "\n",
    "print(finale)\n",
    "#‍for i in range(len(testo_min)-1):\n",
    "   #if i < 4:\n",
    "     # finale.append(testo_min[i])"
   ]
  },
  {
   "cell_type": "code",
   "execution_count": 135,
   "metadata": {},
   "outputs": [
    {
     "name": "stdout",
     "output_type": "stream",
     "text": [
      "0\n",
      "0\n",
      "1\n",
      "0\n",
      "1\n",
      "0\n",
      "\n"
     ]
    }
   ],
   "source": [
    "n = [0.31, 0.11, 0.51, 0.45, 0.67, 0.01]\n",
    "\n",
    "for i in n:\n",
    "    if i > 0.5:\n",
    "        print(1)\n",
    "    else:\n",
    "        print(0)\n",
    "print()"
   ]
  },
  {
   "cell_type": "code",
   "execution_count": 136,
   "metadata": {},
   "outputs": [
    {
     "ename": "TypeError",
     "evalue": "list.count() takes exactly one argument (0 given)",
     "output_type": "error",
     "traceback": [
      "\u001b[1;31m---------------------------------------------------------------------------\u001b[0m",
      "\u001b[1;31mTypeError\u001b[0m                                 Traceback (most recent call last)",
      "Cell \u001b[1;32mIn[136], line 3\u001b[0m\n\u001b[0;32m      1\u001b[0m items \u001b[39m=\u001b[39m [\u001b[39m'\u001b[39m\u001b[39ma\u001b[39m\u001b[39m'\u001b[39m, \u001b[39m'\u001b[39m\u001b[39mb\u001b[39m\u001b[39m'\u001b[39m, \u001b[39m'\u001b[39m\u001b[39mb\u001b[39m\u001b[39m'\u001b[39m, \u001b[39m'\u001b[39m\u001b[39mb\u001b[39m\u001b[39m'\u001b[39m, \u001b[39m'\u001b[39m\u001b[39ma\u001b[39m\u001b[39m'\u001b[39m, \u001b[39m'\u001b[39m\u001b[39mb\u001b[39m\u001b[39m'\u001b[39m, \u001b[39m'\u001b[39m\u001b[39mb\u001b[39m\u001b[39m'\u001b[39m, \u001b[39m'\u001b[39m\u001b[39mb\u001b[39m\u001b[39m'\u001b[39m, \u001b[39m'\u001b[39m\u001b[39ma\u001b[39m\u001b[39m'\u001b[39m]\n\u001b[0;32m      2\u001b[0m item \u001b[39m=\u001b[39m {}\n\u001b[1;32m----> 3\u001b[0m \u001b[39mfor\u001b[39;00m item \u001b[39min\u001b[39;00m items\u001b[39m.\u001b[39;49mcount():\n\u001b[0;32m      4\u001b[0m     item\u001b[39m.\u001b[39madd(items)\n\u001b[0;32m      5\u001b[0m \u001b[39mprint\u001b[39m(item)\n",
      "\u001b[1;31mTypeError\u001b[0m: list.count() takes exactly one argument (0 given)"
     ]
    }
   ],
   "source": [
    "items = ['a', 'b', 'b', 'b', 'a', 'b', 'b', 'b', 'a']\n",
    "item = {}\n",
    "for item in items:\n",
    "    item.count(items)\n",
    "print(item)"
   ]
  },
  {
   "cell_type": "code",
   "execution_count": 137,
   "metadata": {},
   "outputs": [
    {
     "name": "stdout",
     "output_type": "stream",
     "text": [
      "{'a': 3, 'b': 6}\n"
     ]
    }
   ],
   "source": [
    "items = ['a', 'b', 'b', 'b', 'a', 'b', 'b', 'b', 'a']\n",
    "\n",
    "freq = {}\n",
    "\n",
    "for item in items:\n",
    "   if item not in freq.keys():\n",
    "       freq[item] = 1\n",
    "   else:\n",
    "       freq[item] += 1\n",
    "\n",
    "print(freq)"
   ]
  },
  {
   "cell_type": "code",
   "execution_count": 140,
   "metadata": {},
   "outputs": [
    {
     "name": "stdout",
     "output_type": "stream",
     "text": [
      "False\n"
     ]
    }
   ],
   "source": [
    "hashtags = ['holiday', 'sport', 'fit', None, 'fashion']\n",
    "for world in hashtags:\n",
    "    if not type(world) == str:\n",
    "        print(False)\n",
    " "
   ]
  },
  {
   "cell_type": "code",
   "execution_count": 141,
   "metadata": {},
   "outputs": [
    {
     "name": "stdout",
     "output_type": "stream",
     "text": [
      "Alessio\n",
      "Moira\n",
      "Renato\n",
      "Martino\n"
     ]
    }
   ],
   "source": [
    "nomi = ['Alessio', 'Moira', 'Renato', None, 'Martino']\n",
    "for nome in nomi:\n",
    "    if type(nome) == str:\n",
    "        print(nome)"
   ]
  },
  {
   "cell_type": "code",
   "execution_count": 156,
   "metadata": {},
   "outputs": [],
   "source": [
    "l1=[2, 3, 6, 8, 9, 11, 16]\n",
    "l2=[]\n",
    "for n in l1:\n",
    "    l2.append(n ** 2)\n",
    "    \n",
    "   "
   ]
  },
  {
   "cell_type": "code",
   "execution_count": 158,
   "metadata": {},
   "outputs": [
    {
     "name": "stdout",
     "output_type": "stream",
     "text": [
      "N_2 magiore\n"
     ]
    }
   ],
   "source": [
    "inp_1 = int(input(\"N:1: \"))\n",
    "inp_2 = int(input(\"N.2 : \"))\n",
    "if inp_1 > inp_2:\n",
    "    print(\"N_1 magiore\")\n",
    "elif inp_1 < inp_2:\n",
    "    print(\"N_2 magiore\")\n",
    "else:\n",
    "    print(\"sono uguali\")"
   ]
  },
  {
   "cell_type": "code",
   "execution_count": 159,
   "metadata": {},
   "outputs": [
    {
     "name": "stdout",
     "output_type": "stream",
     "text": [
      "4\n"
     ]
    }
   ],
   "source": [
    "a = int(input(\"N:1: \"))\n",
    "b = int(input(\"N:2: \"))\n",
    "c = int(input(\"N:3: \"))\n",
    "s = (a, b, c)\n",
    "print(max(s))"
   ]
  },
  {
   "cell_type": "code",
   "execution_count": 160,
   "metadata": {},
   "outputs": [
    {
     "name": "stdout",
     "output_type": "stream",
     "text": [
      "7\n"
     ]
    }
   ],
   "source": [
    "l = list(input(\"lista: \"))\n",
    "print(max(l))\n"
   ]
  },
  {
   "cell_type": "code",
   "execution_count": 168,
   "metadata": {},
   "outputs": [
    {
     "name": "stdout",
     "output_type": "stream",
     "text": [
      "True\n"
     ]
    }
   ],
   "source": [
    "st = input(\"scrivi una lettera: \")\n",
    "if  st in \"aeiuoAEIUO\":\n",
    "    print(True)\n",
    "else:\n",
    "    print(False)"
   ]
  },
  {
   "cell_type": "code",
   "execution_count": 177,
   "metadata": {},
   "outputs": [
    {
     "name": "stdout",
     "output_type": "stream",
     "text": [
      "20\n"
     ]
    }
   ],
   "source": [
    "l_3 = [2, 3, 4, 5, 6]\n",
    "count = 0\n",
    "for num in l_3:\n",
    "    count += num\n",
    "print(count)"
   ]
  },
  {
   "cell_type": "code",
   "execution_count": 176,
   "metadata": {},
   "outputs": [
    {
     "name": "stdout",
     "output_type": "stream",
     "text": [
      "Il risultato della somma è... 174\n"
     ]
    }
   ],
   "source": [
    "lista = [3, 6, 100, 23, 42]\n",
    "risultato = 0\n",
    "for numero in lista:\n",
    "    risultato += numero\n",
    "print(\"Il risultato della somma è... \" + str(risultato))"
   ]
  },
  {
   "cell_type": "code",
   "execution_count": 198,
   "metadata": {},
   "outputs": [
    {
     "name": "stdout",
     "output_type": "stream",
     "text": [
      "[1, 4, 9, 16, 25, 36, 49, 64, 81, 100]\n"
     ]
    }
   ],
   "source": [
    "def is_square_number(num):\n",
    "    # Verifica se il numero è un quadrato perfetto senza utilizzare il modulo math\n",
    "    if num < 0:\n",
    "        return False\n",
    "\n",
    "    root = int(num ** 0.5)  # Calcola la radice quadrata intera del numero\n",
    "    return root * root == num  # Restituisce True se il quadrato della radice è uguale al numero originale\n",
    "\n",
    "\n",
    "def calculate_hats_at_end(num_giri):\n",
    "    cats_with_cap = []\n",
    "    for i in range(1, num_giri + 1):\n",
    "        if is_square_number(i):\n",
    "            cats_with_cap.append(i)  # Aggiungi il gatto a cats_with_cap se ha un cappello\n",
    "        else:\n",
    "            pass  # Rimuovi il gatto da cats_with_cap se non ha un cappello\n",
    "\n",
    "    return cats_with_cap\n",
    "\n",
    "num_giri = 100\n",
    "result = calculate_hats_at_end(num_giri)\n",
    "print(result)"
   ]
  }
 ],
 "metadata": {
  "kernelspec": {
   "display_name": "Python 3",
   "language": "python",
   "name": "python3"
  },
  "language_info": {
   "codemirror_mode": {
    "name": "ipython",
    "version": 3
   },
   "file_extension": ".py",
   "mimetype": "text/x-python",
   "name": "python",
   "nbconvert_exporter": "python",
   "pygments_lexer": "ipython3",
   "version": "3.11.4"
  },
  "orig_nbformat": 4
 },
 "nbformat": 4,
 "nbformat_minor": 2
}
