{
 "cells": [
  {
   "cell_type": "code",
   "execution_count": 1,
   "metadata": {},
   "outputs": [],
   "source": [
    "def bmi_calculate(weight: int, height : int):\n",
    "    return round(weight / (height **2 ))\n",
    "    print(bmi_calculate(56 ,186))\n"
   ]
  },
  {
   "cell_type": "code",
   "execution_count": 1,
   "metadata": {},
   "outputs": [
    {
     "name": "stdout",
     "output_type": "stream",
     "text": [
      "Anna\n",
      "mari\n",
      "Yuliya\n"
     ]
    }
   ],
   "source": [
    "q = [\"Anna\", \"mari\", \"Yuliya\"]\n",
    "for nome in q:\n",
    "    print(nome)"
   ]
  },
  {
   "cell_type": "code",
   "execution_count": 3,
   "metadata": {},
   "outputs": [
    {
     "name": "stdout",
     "output_type": "stream",
     "text": [
      "1\n",
      "2\n",
      "3\n",
      "4\n",
      "5\n",
      "6\n",
      "7\n",
      "8\n",
      "9\n",
      "10\n"
     ]
    }
   ],
   "source": [
    "w = 10\n",
    "for w in range(1,10+1):\n",
    "    print(w)\n",
    "    \n",
    "    \n",
    "    \n",
    "    "
   ]
  },
  {
   "cell_type": "code",
   "execution_count": 7,
   "metadata": {},
   "outputs": [
    {
     "name": "stdout",
     "output_type": "stream",
     "text": [
      "14\n"
     ]
    }
   ],
   "source": [
    "r = [2, 3, 5, 4]\n",
    "somma = 0\n",
    "for n in r:\n",
    "    somma = somma + n\n",
    "print(somma) "
   ]
  },
  {
   "cell_type": "code",
   "execution_count": 4,
   "metadata": {},
   "outputs": [
    {
     "name": "stdout",
     "output_type": "stream",
     "text": [
      "2\n",
      "4\n",
      "6\n",
      "8\n",
      "10\n",
      "12\n",
      "14\n",
      "16\n",
      "18\n",
      "20\n",
      "22\n",
      "24\n",
      "26\n"
     ]
    }
   ],
   "source": [
    "for n in range(2,27, 2):\n",
    "    print(n)\n",
    "    "
   ]
  },
  {
   "cell_type": "code",
   "execution_count": 11,
   "metadata": {},
   "outputs": [
    {
     "name": "stdout",
     "output_type": "stream",
     "text": [
      "q\n",
      "w\n",
      "e\n",
      "r\n",
      "t\n"
     ]
    }
   ],
   "source": [
    "stringa = str(input(\" \"))\n",
    "for i in stringa:\n",
    "    print(i)"
   ]
  },
  {
   "cell_type": "code",
   "execution_count": 13,
   "metadata": {},
   "outputs": [
    {
     "name": "stdout",
     "output_type": "stream",
     "text": [
      "nome\n",
      "cognome\n",
      "eta\n"
     ]
    }
   ],
   "source": [
    "dizionario = {\"nome\": \"Mario\", \"cognome\": \"Rossi\", \"eta\": 30 }\n",
    "for chiave in dizionario:\n",
    "     print(chiave)"
   ]
  },
  {
   "cell_type": "code",
   "execution_count": 17,
   "metadata": {},
   "outputs": [
    {
     "name": "stdout",
     "output_type": "stream",
     "text": [
      "v\n",
      "i\n",
      "a\n",
      "p\n",
      "i\n",
      "a\n",
      "z\n",
      "z\n",
      "a\n",
      "c\n",
      "i\n",
      "t\n",
      "t\n",
      "t\n",
      "a\n"
     ]
    }
   ],
   "source": [
    "lista = [\"via\", \"piazza\", \"cittta\"]\n",
    "for a in lista:\n",
    "    for i in a:\n",
    "        print(i)"
   ]
  },
  {
   "cell_type": "code",
   "execution_count": null,
   "metadata": {},
   "outputs": [],
   "source": []
  },
  {
   "cell_type": "code",
   "execution_count": 16,
   "metadata": {},
   "outputs": [
    {
     "name": "stdout",
     "output_type": "stream",
     "text": [
      "c\n",
      "i\n",
      "a\n",
      "o\n",
      "a\n",
      "t\n",
      "u\n",
      "t\n",
      "t\n",
      "i\n"
     ]
    }
   ],
   "source": [
    "lista = [\"ciao\", \"a\", \"tutti\"]\n",
    "\n",
    "for parola in lista:\n",
    "    for lettera in parola:\n",
    "        print(lettera)"
   ]
  },
  {
   "cell_type": "code",
   "execution_count": 28,
   "metadata": {},
   "outputs": [
    {
     "name": "stdout",
     "output_type": "stream",
     "text": [
      "La lettera a compare 3 volte.\n"
     ]
    }
   ],
   "source": [
    "stringa = str(input(\" \"))\n",
    "conta = 0\n",
    "for lettera in stringa:\n",
    "    if lettera == \"a\":\n",
    "        conta = conta + 1\n",
    "print (\"La lettera a compare\", conta, \"volte.\")"
   ]
  },
  {
   "cell_type": "code",
   "execution_count": 29,
   "metadata": {},
   "outputs": [
    {
     "name": "stdout",
     "output_type": "stream",
     "text": [
      "3.5\n"
     ]
    }
   ],
   "source": [
    "num_list = [2, 3, 4, 5]\n",
    "somma = 0\n",
    "for num in num_list:\n",
    "    somma = somma + num\n",
    "media = somma / len(num_list)\n",
    "print(media)\n",
    "    "
   ]
  },
  {
   "cell_type": "code",
   "execution_count": 33,
   "metadata": {},
   "outputs": [
    {
     "name": "stdout",
     "output_type": "stream",
     "text": [
      "14\n"
     ]
    }
   ],
   "source": [
    "def lista(q, w, e):\n",
    "    somma = q+w+e\n",
    "    return(somma)\n",
    "print(somma)\n",
    "  "
   ]
  },
  {
   "cell_type": "code",
   "execution_count": 39,
   "metadata": {},
   "outputs": [],
   "source": [
    "def lista_parole(via, piazza, citta):\n",
    "    start = lista_parole.startswith(\"p\")\n",
    "    return(start)\n",
    "    print(start)"
   ]
  },
  {
   "cell_type": "code",
   "execution_count": 45,
   "metadata": {},
   "outputs": [
    {
     "name": "stdout",
     "output_type": "stream",
     "text": [
      "\n"
     ]
    }
   ],
   "source": [
    "def parole_con_lettera(lista, lettera):\n",
    "    risultato = []\n",
    "    for parola in lista:\n",
    "        if parola[0] == lettera:\n",
    "            risultato.append(parola)\n",
    "    return risultato\n",
    "print()"
   ]
  },
  {
   "cell_type": "code",
   "execution_count": null,
   "metadata": {},
   "outputs": [],
   "source": [
    "def num_list(4,5,6,7,8,9,1):\n",
    "    n = num_list()./ 2\n"
   ]
  },
  {
   "cell_type": "code",
   "execution_count": 60,
   "metadata": {},
   "outputs": [],
   "source": [
    "lista = [\"ada\", \"isa\", \"pera\"]\n",
    "def let_list(lista):\n",
    "    risultato = []\n",
    "    for l in lista:\n",
    "        risultato.append(len(l))\n",
    "    return risultato"
   ]
  },
  {
   "cell_type": "code",
   "execution_count": 61,
   "metadata": {},
   "outputs": [],
   "source": [
    "    def test_compute_difference():\n",
    "\n",
    "        result1 = compute_difference(['a', 'b', 'c', 'c', 'd'], ['c', 'd', 'e'])\n",
    "\n",
    "        assert result1 == (['a', 'b', 'c'], ['e'])\n",
    "\n",
    "        result2 = compute_difference([], ['c', 'd', 'e'])\n",
    "\n",
    "        assert result2 == ([], ['c', 'd', 'e'])\n",
    "\n",
    "        result3 = compute_difference([1, 2, 3], [4, 4, 5, 6])\n",
    "\n",
    "        assert result3 == ([1, 2, 3], [4, 4, 5, 6])\n",
    "\n",
    "        result3 = compute_difference([1, 2, 3], [2, 3, 4])\n",
    "\n",
    "        assert result3 == ([1], [4])"
   ]
  },
  {
   "cell_type": "code",
   "execution_count": 74,
   "metadata": {},
   "outputs": [
    {
     "ename": "AttributeError",
     "evalue": "'list' object has no attribute 'difference'",
     "output_type": "error",
     "traceback": [
      "\u001b[1;31m---------------------------------------------------------------------------\u001b[0m",
      "\u001b[1;31mAttributeError\u001b[0m                            Traceback (most recent call last)",
      "Cell \u001b[1;32mIn[74], line 10\u001b[0m\n\u001b[0;32m      7\u001b[0m     \u001b[39mprint\u001b[39m(\u001b[39m\"\u001b[39m\u001b[39msecond_first : \u001b[39m\u001b[39m\"\u001b[39m, second_first)\n\u001b[0;32m      8\u001b[0m     \u001b[39mreturn\u001b[39;00m\n\u001b[1;32m---> 10\u001b[0m compute_difference(list_1, list_2)\n",
      "Cell \u001b[1;32mIn[74], line 4\u001b[0m, in \u001b[0;36mcompute_difference\u001b[1;34m(first, second)\u001b[0m\n\u001b[0;32m      3\u001b[0m \u001b[39mdef\u001b[39;00m \u001b[39mcompute_difference\u001b[39m(first: \u001b[39mlist\u001b[39m, second: \u001b[39mlist\u001b[39m) \u001b[39m-\u001b[39m\u001b[39m>\u001b[39m \u001b[39mtuple\u001b[39m:\n\u001b[1;32m----> 4\u001b[0m     first_second \u001b[39m=\u001b[39m first\u001b[39m.\u001b[39;49mdifference(second)\n\u001b[0;32m      5\u001b[0m     second_first \u001b[39m=\u001b[39msecond\u001b[39m.\u001b[39mdifference(first)\n\u001b[0;32m      6\u001b[0m     \u001b[39mprint\u001b[39m(\u001b[39m\"\u001b[39m\u001b[39mfirst-second: \u001b[39m\u001b[39m\"\u001b[39m, first_second)\n",
      "\u001b[1;31mAttributeError\u001b[0m: 'list' object has no attribute 'difference'"
     ]
    }
   ],
   "source": [
    "list_1 =  ['a', 'b', 'c', 'd']\n",
    "list_2 = ['c', 'd', 'e']\n",
    "def compute_difference(first: list, second: list) -> tuple:\n",
    "    first_second = first.difference(second)\n",
    "    second_first = second.difference(first)\n",
    "    print(\"first-second: \", first_second)\n",
    "    print(\"second_first : \", second_first)\n",
    "    return\n",
    "\n",
    "compute_difference(list_1, list_2)"
   ]
  },
  {
   "cell_type": "code",
   "execution_count": 77,
   "metadata": {},
   "outputs": [
    {
     "name": "stdout",
     "output_type": "stream",
     "text": [
      "first-second: ['a', 'b']\n",
      "second_first: ['e']\n"
     ]
    }
   ],
   "source": [
    "# .1 del home_work\n",
    "list_1 = ['a', 'b', 'c', 'd']\n",
    "list_2 = ['c', 'd', 'e']\n",
    "\n",
    "def compute_difference(first: list, second: list) -> tuple:\n",
    "    first_second = [item for item in first if item not in second]\n",
    "    second_first = [item for item in second if item not in first]\n",
    "    print(\"first-second:\", first_second)\n",
    "    print(\"second_first:\", second_first)\n",
    "    return\n",
    "\n",
    "compute_difference(list_1, list_2)"
   ]
  },
  {
   "cell_type": "code",
   "execution_count": 82,
   "metadata": {},
   "outputs": [
    {
     "name": "stdout",
     "output_type": "stream",
     "text": [
      "Indices: [1, 4] doing target:  7\n"
     ]
    }
   ],
   "source": [
    "# 2. del home_work\n",
    "nums = [1, 2, 3, 4, 5]\n",
    "target = 7\n",
    "\n",
    "def sum_of_two(nums: list, target: int) -> list:\n",
    "    for i in range(len(nums)):\n",
    "        for j in range(i + 1, len(nums)):  \n",
    "            if nums[i] + nums[j] == target:\n",
    "                return [i, j] \n",
    "    return [] \n",
    "\n",
    "indices = sum_of_two(nums, target)\n",
    "print(\"Indices:\", indices, \"doing target: \", target)\n",
    "        \n"
   ]
  },
  {
   "cell_type": "code",
   "execution_count": 89,
   "metadata": {},
   "outputs": [
    {
     "name": "stdout",
     "output_type": "stream",
     "text": [
      "[1, 2, 5]\n"
     ]
    }
   ],
   "source": [
    "# 3. del home_work\n",
    "arr = [1, 2, 3, 3, 4, 4, 5]\n",
    "\n",
    "def unique_elements(arr: list) -> list:\n",
    "    unique_elements = []\n",
    "    for num in arr:\n",
    "        if arr.count(num) == 1:\n",
    "            unique_elements.append(num)\n",
    "    return unique_elements\n",
    "\n",
    "print(unique_elements(arr))"
   ]
  },
  {
   "cell_type": "code",
   "execution_count": 99,
   "metadata": {},
   "outputs": [
    {
     "name": "stdout",
     "output_type": "stream",
     "text": [
      "[2, 3, 3, 4, 4]\n"
     ]
    }
   ],
   "source": [
    "\n",
    "arr_list = [1, 1, 2, 3, 3, 3, 4, 5, 5]\n",
    "def odd_elements(arr_list: list) -> list:\n",
    "    odd_elements = []\n",
    "    for num in arr:\n",
    "        if arr_list.count(num) % 2 != 0:\n",
    "            odd_elements.append(num)\n",
    "    return odd_elements \n",
    "\n",
    "result = odd_elements(arr_list)\n",
    "print(result)"
   ]
  },
  {
   "cell_type": "code",
   "execution_count": 100,
   "metadata": {},
   "outputs": [
    {
     "name": "stdout",
     "output_type": "stream",
     "text": [
      "[2, 3, 3, 3, 4]\n"
     ]
    }
   ],
   "source": [
    "# 4. home_work\n",
    "\n",
    "arr_list = [1, 1, 2, 3, 3, 3, 4, 5, 5]\n",
    "\n",
    "def odd_elements(arr_list: list) -> list:\n",
    "    odd_elements = []\n",
    "    for num in arr_list:\n",
    "        if arr_list.count(num) % 2 != 0:\n",
    "            odd_elements.append(num)\n",
    "    return odd_elements\n",
    "\n",
    "result = odd_elements(arr_list)\n",
    "print(result)"
   ]
  },
  {
   "cell_type": "code",
   "execution_count": null,
   "metadata": {},
   "outputs": [],
   "source": [
    "input_list = [1, 2, 3, 2, 4, 5, 5]\n",
    "def second_largest_element(arr: list) -> int:\n",
    "    if len(arr) >= 2:\n",
    "        max_num = arr.max()\n",
    "        secon_num = max_num - 1\n",
    "        \n",
    "    else:\n",
    "        return None\n"
   ]
  },
  {
   "cell_type": "code",
   "execution_count": 14,
   "metadata": {},
   "outputs": [
    {
     "name": "stdout",
     "output_type": "stream",
     "text": [
      "8\n"
     ]
    }
   ],
   "source": [
    "# 5. home_work\n",
    "\n",
    "input_list = [1, 2, 8, 2, 5, 11]\n",
    "def second_largest_element(arr: list) -> int:\n",
    "    if len(arr) < 2:\n",
    "        return None\n",
    "    \n",
    "    max_num = max(arr)\n",
    "    second_num = float(\"-inf\")\n",
    "    \n",
    "    for num in arr:\n",
    "        if num > second_num and num < max_num:\n",
    "            second_num = num\n",
    "    \n",
    "    return second_num\n",
    "result = second_largest_element(input_list)\n",
    "print(result)"
   ]
  },
  {
   "cell_type": "code",
   "execution_count": 21,
   "metadata": {},
   "outputs": [
    {
     "name": "stdout",
     "output_type": "stream",
     "text": [
      "San Jose\n",
      "Dallas\n",
      "San Diego\n",
      "San Antonio\n",
      "Phoenix\n",
      "Philadelphia\n",
      "Houston\n",
      "Chicago\n",
      "Los Angeles\n",
      "New York City\n",
      "Popolazione totale delle città: 24889092\n",
      "Popolazione media delle città: 2488909.2\n"
     ]
    }
   ],
   "source": [
    "# 6. home_work\n",
    "\n",
    "city_populations = [\n",
    "\n",
    "    ('New York City', 8550405),\n",
    "\n",
    "    ('Los Angeles', 3792621),\n",
    "\n",
    "    ('Chicago', 2695598),\n",
    "\n",
    "    ('Houston', 2100263),\n",
    "\n",
    "    ('Philadelphia', 1526006),\n",
    "\n",
    "    ('Phoenix', 1445632),\n",
    "\n",
    "    ('San Antonio', 1327407),\n",
    "\n",
    "    ('San Diego', 1307402),\n",
    "\n",
    "    ('Dallas', 1197816),\n",
    "\n",
    "    ('San Jose', 945942),\n",
    "\n",
    "]\n",
    "sorted_cities = sorted(city_populations, key=lambda x: x[1])\n",
    "total_population = sum(city[1] for city in city_populations)\n",
    "average_population = total_population / len(city_populations)\n",
    "for city in sorted_cities:\n",
    "    print(city[0])\n",
    "print(\"Popolazione totale delle città:\", total_population)\n",
    "print(\"Popolazione media delle città:\", average_population)\n",
    "\n"
   ]
  }
 ],
 "metadata": {
  "kernelspec": {
   "display_name": "Python 3",
   "language": "python",
   "name": "python3"
  },
  "language_info": {
   "codemirror_mode": {
    "name": "ipython",
    "version": 3
   },
   "file_extension": ".py",
   "mimetype": "text/x-python",
   "name": "python",
   "nbconvert_exporter": "python",
   "pygments_lexer": "ipython3",
   "version": "3.11.4"
  },
  "orig_nbformat": 4
 },
 "nbformat": 4,
 "nbformat_minor": 2
}
