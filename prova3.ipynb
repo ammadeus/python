{
 "cells": [
  {
   "cell_type": "code",
   "execution_count": 1,
   "metadata": {},
   "outputs": [
    {
     "name": "stdout",
     "output_type": "stream",
     "text": [
      "That was not an integer, try again.\n",
      "2\n"
     ]
    }
   ],
   "source": [
    "def ent_data():\n",
    "    data_n = input(\"Enter an integer: \")\n",
    "    return data_n\n",
    "def enter_integer():\n",
    "    while True:\n",
    "        data_n = ent_data()\n",
    "        try:\n",
    "            number = int(data_n)\n",
    "            print(number)\n",
    "            break\n",
    "        except ValueError:\n",
    "            print(\"That was not an integer, try again.\")\n",
    "            \n",
    "enter_integer()\n",
    "        \n",
    "\n",
    "    "
   ]
  },
  {
   "cell_type": "code",
   "execution_count": 66,
   "metadata": {},
   "outputs": [
    {
     "name": "stdout",
     "output_type": "stream",
     "text": [
      "Index out of range. Please enter a valid index.\n",
      "The character 1 is: m\n"
     ]
    }
   ],
   "source": [
    "\n",
    "def enter_data():\n",
    "    user_string = input(\"Pleace, emter a string : \")\n",
    "    user_integer = int(input(\"Pleace, enter integer : \"))\n",
    "    return user_string, user_integer\n",
    "\n",
    "def print_character_at_index():\n",
    "    user_string, user_integer = enter_data()\n",
    "    while True:\n",
    "        try:\n",
    "            character = user_string[user_integer]\n",
    "            print(\"The character\", user_integer, \"is:\", character)\n",
    "            break\n",
    "        except ValueError:\n",
    "            print(\"Input not valid.Pleace enter valid string or integer.\")\n",
    "            user_string, user_integer = enter_data()\n",
    "        except IndexError:\n",
    "            print(\"Index out of range. Please enter a valid index.\")\n",
    "            user_string, user_integer = enter_data()\n",
    "\n",
    "print_character_at_index()\n",
    "     "
   ]
  },
  {
   "cell_type": "code",
   "execution_count": 8,
   "metadata": {},
   "outputs": [],
   "source": [
    "balance = 1000\n",
    "\n",
    "def transaction(amount, _type):\n",
    "    def deposit(amount):\n",
    "        global balance\n",
    "        balance += amount\n",
    "        print(\"New balance is:\", balance)\n",
    "\n",
    "    def withdrawal(amount):\n",
    "        global balance\n",
    "        balance -= amount\n",
    "        print(\"New balance is:\", balance)\n",
    "\n",
    "    if _type == \"deposit\":\n",
    "        deposit(amount)\n",
    "    elif _type == \"withdrawal\":\n",
    "        withdrawal(amount)"
   ]
  },
  {
   "cell_type": "code",
   "execution_count": 9,
   "metadata": {},
   "outputs": [
    {
     "name": "stdout",
     "output_type": "stream",
     "text": [
      "New balance is: 1200\n"
     ]
    }
   ],
   "source": [
    "\n",
    "\n",
    "balance = 1000\n",
    "\n",
    "def transaction(amount, _type):\n",
    "    if _type == \"deposit\":\n",
    "        def deposit():\n",
    "            global balance\n",
    "            balance += amount\n",
    "            print(\"New balance is:\", balance)\n",
    "        deposit()\n",
    "    elif _type == \"withdrawal\":\n",
    "        def withdrawal():\n",
    "            global balance\n",
    "            balance -= amount\n",
    "            print(\"New balance is:\", balance)\n",
    "        withdrawal()\n",
    "\n",
    "transaction(200, \"deposit\")\n"
   ]
  },
  {
   "cell_type": "code",
   "execution_count": 12,
   "metadata": {},
   "outputs": [],
   "source": [
    "import random"
   ]
  },
  {
   "cell_type": "code",
   "execution_count": 121,
   "metadata": {},
   "outputs": [
    {
     "ename": "SyntaxError",
     "evalue": "'return' outside function (2515275122.py, line 4)",
     "output_type": "error",
     "traceback": [
      "\u001b[1;36m  Cell \u001b[1;32mIn[121], line 4\u001b[1;36m\u001b[0m\n\u001b[1;33m    return\u001b[0m\n\u001b[1;37m    ^\u001b[0m\n\u001b[1;31mSyntaxError\u001b[0m\u001b[1;31m:\u001b[0m 'return' outside function\n"
     ]
    }
   ],
   "source": [
    "def dice_roll():\n",
    "    roll = random.randit(1.6)\n",
    "    return\n",
    "    print(roll) \n",
    " "
   ]
  },
  {
   "cell_type": "code",
   "execution_count": 13,
   "metadata": {},
   "outputs": [
    {
     "name": "stdout",
     "output_type": "stream",
     "text": [
      "Dice roll result: 4\n"
     ]
    }
   ],
   "source": [
    "def roll_dice():\n",
    "    return random.randint(1, 6)\n",
    "result = roll_dice()\n",
    "print(\"Dice roll result:\", result)"
   ]
  },
  {
   "cell_type": "code",
   "execution_count": null,
   "metadata": {},
   "outputs": [],
   "source": []
  },
  {
   "cell_type": "code",
   "execution_count": 131,
   "metadata": {},
   "outputs": [
    {
     "name": "stdout",
     "output_type": "stream",
     "text": [
      "6\n"
     ]
    },
    {
     "data": {
      "text/plain": [
       "6"
      ]
     },
     "execution_count": 131,
     "metadata": {},
     "output_type": "execute_result"
    }
   ],
   "source": [
    "def dice_roll():\n",
    "    roll = random.randint(1, 6)\n",
    "    print(roll)\n",
    "    return roll\n",
    "dice_roll()"
   ]
  },
  {
   "cell_type": "code",
   "execution_count": 15,
   "metadata": {},
   "outputs": [
    {
     "ename": "SyntaxError",
     "evalue": "invalid syntax (483405413.py, line 6)",
     "output_type": "error",
     "traceback": [
      "\u001b[1;36m  Cell \u001b[1;32mIn[15], line 6\u001b[1;36m\u001b[0m\n\u001b[1;33m    roll_tup = roll.\u001b[0m\n\u001b[1;37m                    ^\u001b[0m\n\u001b[1;31mSyntaxError\u001b[0m\u001b[1;31m:\u001b[0m invalid syntax\n"
     ]
    }
   ],
   "source": [
    "def dice_roll():\n",
    "    roll = random.randint(1, 6)\n",
    "    for i in range(1000):\n",
    "     print(roll)\n",
    "    return roll\n",
    "roll_tup = roll.\n",
    "dice_roll()"
   ]
  },
  {
   "cell_type": "code",
   "execution_count": 135,
   "metadata": {},
   "outputs": [
    {
     "name": "stdout",
     "output_type": "stream",
     "text": [
      "3\n"
     ]
    }
   ],
   "source": [
    "Frutto = \"banana\"\n",
    "Conteggio = 0\n",
    "for Carattere in Frutto:\n",
    "  if Carattere == 'a':\n",
    "    Conteggio = Conteggio + 1\n",
    "print(Conteggio)"
   ]
  },
  {
   "cell_type": "code",
   "execution_count": 139,
   "metadata": {},
   "outputs": [
    {
     "ename": "AttributeError",
     "evalue": "'int' object has no attribute 'count'",
     "output_type": "error",
     "traceback": [
      "\u001b[1;31m---------------------------------------------------------------------------\u001b[0m",
      "\u001b[1;31mAttributeError\u001b[0m                            Traceback (most recent call last)",
      "Cell \u001b[1;32mIn[139], line 5\u001b[0m\n\u001b[0;32m      3\u001b[0m \u001b[39mfor\u001b[39;00m i \u001b[39min\u001b[39;00m \u001b[39mrange\u001b[39m(\u001b[39m1000\u001b[39m):\n\u001b[0;32m      4\u001b[0m     result \u001b[39m=\u001b[39m roll_dice()\n\u001b[1;32m----> 5\u001b[0m     result\u001b[39m.\u001b[39;49mcount(\u001b[39m1\u001b[39m)\n\u001b[0;32m      6\u001b[0m     result\u001b[39m.\u001b[39mcount(\u001b[39m2\u001b[39m)\n\u001b[0;32m      7\u001b[0m     result\u001b[39m.\u001b[39mcount(\u001b[39m3\u001b[39m)\n",
      "\u001b[1;31mAttributeError\u001b[0m: 'int' object has no attribute 'count'"
     ]
    }
   ],
   "source": [
    "def roll_dice():\n",
    "    return random.randint(1, 6)\n",
    "for i in range(1000):\n",
    "    result = roll_dice()\n",
    "    result.count(1)\n",
    "    result.count(2)\n",
    "    result.count(3)\n",
    "    result.count(4)\n",
    "    result.count(5)\n",
    "    result.count(6)\n",
    "print(result)   \n",
    "    "
   ]
  },
  {
   "cell_type": "code",
   "execution_count": 17,
   "metadata": {},
   "outputs": [
    {
     "name": "stdout",
     "output_type": "stream",
     "text": [
      "[165, 160, 177, 163, 153, 182]\n"
     ]
    }
   ],
   "source": [
    "import random\n",
    "\n",
    "def roll_dice():\n",
    "    return random.randint(1, 6)\n",
    "\n",
    "counts = [0, 0, 0, 0, 0, 0] \n",
    "\n",
    "for i in range(1000):\n",
    "    result = roll_dice()\n",
    "    counts[result - 1] += 1 \n",
    "\n",
    "print(counts)"
   ]
  },
  {
   "cell_type": "code",
   "execution_count": 18,
   "metadata": {},
   "outputs": [
    {
     "name": "stdout",
     "output_type": "stream",
     "text": [
      "Region 1:\n",
      "Votes for Candidate 1: 3382\n",
      "Votes for Candidate 2: 6618\n",
      "Region 2:\n",
      "Votes for Candidate 1: 5589\n",
      "Votes for Candidate 2: 4411\n",
      "Region 3:\n",
      "Votes for Candidate 1: 6701\n",
      "Votes for Candidate 2: 3299\n",
      "Overall Winner: Candidate 1\n"
     ]
    }
   ],
   "source": [
    "import random\n",
    "\n",
    "def receive_input():\n",
    "    num_regions = int(input(\"Enter the number of regions: \"))\n",
    "    ratings = []\n",
    "    for i in range(num_regions):\n",
    "        rating = float(input(f\"Enter the rating for Candidate 1 in region {i+1} (in percentage): \"))\n",
    "        ratings.append(rating)\n",
    "    return num_regions, ratings\n",
    "\n",
    "def simulate_region_election(rating):\n",
    "    candidate_1_votes = 0\n",
    "    candidate_2_votes = 0\n",
    "    for _ in range(10000):\n",
    "        vote = random.randint(1, 100)\n",
    "        if vote <= rating:\n",
    "            candidate_1_votes += 1\n",
    "        else:\n",
    "            candidate_2_votes += 1\n",
    "    return candidate_1_votes, candidate_2_votes\n",
    "\n",
    "def simulate_election(input_data):\n",
    "    num_regions, ratings = input_data\n",
    "    election_results = []\n",
    "    for i in range(num_regions):\n",
    "        print(f\"Region {i+1}:\")\n",
    "        candidate_1_votes, candidate_2_votes = simulate_region_election(ratings[i])\n",
    "        election_results.append((candidate_1_votes, candidate_2_votes))\n",
    "        print(\"Votes for Candidate 1:\", candidate_1_votes)\n",
    "        print(\"Votes for Candidate 2:\", candidate_2_votes)\n",
    "    return election_results\n",
    "\n",
    "def calculate_result(election_results):\n",
    "    total_candidate_1_votes = 0\n",
    "    total_candidate_2_votes = 0\n",
    "    for result in election_results:\n",
    "        total_candidate_1_votes += result[0]\n",
    "        total_candidate_2_votes += result[1]\n",
    "    if total_candidate_1_votes > total_candidate_2_votes:\n",
    "        winner = \"Candidate 1\"\n",
    "    elif total_candidate_2_votes > total_candidate_1_votes:\n",
    "        winner = \"Candidate 2\"\n",
    "    else:\n",
    "        winner = \"No winner (Tie)\"\n",
    "    return winner\n",
    "\n",
    "def announce_result(result):\n",
    "    print(\"Overall Winner:\", result)\n",
    "\n",
    "input_data = receive_input()\n",
    "election_results = simulate_election(input_data)\n",
    "result = calculate_result(election_results)\n",
    "announce_result(result)\n"
   ]
  }
 ],
 "metadata": {
  "kernelspec": {
   "display_name": "Python 3",
   "language": "python",
   "name": "python3"
  },
  "language_info": {
   "codemirror_mode": {
    "name": "ipython",
    "version": 3
   },
   "file_extension": ".py",
   "mimetype": "text/x-python",
   "name": "python",
   "nbconvert_exporter": "python",
   "pygments_lexer": "ipython3",
   "version": "3.11.4"
  },
  "orig_nbformat": 4
 },
 "nbformat": 4,
 "nbformat_minor": 2
}
